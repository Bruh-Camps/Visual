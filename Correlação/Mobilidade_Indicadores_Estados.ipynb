{
 "cells": [
  {
   "cell_type": "code",
   "execution_count": 2,
   "metadata": {},
   "outputs": [],
   "source": [
    "import numpy as np\n",
    "import os\n",
    "import pandas as pd\n",
    "import plotly\n",
    "import plotly.graph_objs as go\n",
    "import plotly.offline as py\n",
    "import plotly.express as px\n",
    "from scipy import stats"
   ]
  },
  {
   "cell_type": "markdown",
   "metadata": {},
   "source": [
    "# Indicadores"
   ]
  },
  {
   "cell_type": "code",
   "execution_count": 3,
   "metadata": {},
   "outputs": [],
   "source": [
    "# Importa a biblioteca do sqlite, cria a conexão e o ponteiro\n",
    "import sqlite3\n",
    "con = sqlite3.connect(\"database\\\\indicadores.db\")\n",
    "cur = con.cursor()"
   ]
  },
  {
   "cell_type": "code",
   "execution_count": 4,
   "metadata": {},
   "outputs": [],
   "source": [
    "# Pegando os dados relevantes presentes na database\n",
    "df_ = pd.read_sql(\"SELECT * FROM regions_df\", con)\n",
    "df2_ = pd.read_sql(\"SELECT * FROM brazil_df\", con)\n",
    "df3_ = pd.read_sql(\"SELECT * FROM states_df\", con)"
   ]
  },
  {
   "cell_type": "code",
   "execution_count": 5,
   "metadata": {},
   "outputs": [
    {
     "data": {
      "text/html": [
       "<div>\n",
       "<style scoped>\n",
       "    .dataframe tbody tr th:only-of-type {\n",
       "        vertical-align: middle;\n",
       "    }\n",
       "\n",
       "    .dataframe tbody tr th {\n",
       "        vertical-align: top;\n",
       "    }\n",
       "\n",
       "    .dataframe thead th {\n",
       "        text-align: right;\n",
       "    }\n",
       "</style>\n",
       "<table border=\"1\" class=\"dataframe\">\n",
       "  <thead>\n",
       "    <tr style=\"text-align: right;\">\n",
       "      <th></th>\n",
       "      <th>index</th>\n",
       "      <th>state</th>\n",
       "      <th>ibge_code</th>\n",
       "      <th>week_last_day</th>\n",
       "      <th>epidemiological_week</th>\n",
       "      <th>total_inhabitants</th>\n",
       "      <th>last_available_confirmed</th>\n",
       "      <th>last_available_deaths</th>\n",
       "      <th>new_week_cases</th>\n",
       "      <th>new_week_deaths</th>\n",
       "      <th>prevalence</th>\n",
       "      <th>mortality</th>\n",
       "      <th>lethality</th>\n",
       "      <th>incidence_cases</th>\n",
       "      <th>incidence_deaths</th>\n",
       "      <th>cases_growth_factor</th>\n",
       "      <th>deaths_growth_factor</th>\n",
       "    </tr>\n",
       "  </thead>\n",
       "  <tbody>\n",
       "    <tr>\n",
       "      <th>0</th>\n",
       "      <td>104301</td>\n",
       "      <td>RO</td>\n",
       "      <td>11.0</td>\n",
       "      <td>2020-03-21</td>\n",
       "      <td>12</td>\n",
       "      <td>1.796460e+06</td>\n",
       "      <td>3</td>\n",
       "      <td>0</td>\n",
       "      <td>3</td>\n",
       "      <td>0</td>\n",
       "      <td>0.166995</td>\n",
       "      <td>0.000000</td>\n",
       "      <td>0.000000</td>\n",
       "      <td>0.166995</td>\n",
       "      <td>0.000000</td>\n",
       "      <td>0.000000</td>\n",
       "      <td>0.0</td>\n",
       "    </tr>\n",
       "    <tr>\n",
       "      <th>1</th>\n",
       "      <td>104304</td>\n",
       "      <td>RO</td>\n",
       "      <td>11.0</td>\n",
       "      <td>2020-03-28</td>\n",
       "      <td>13</td>\n",
       "      <td>1.796460e+06</td>\n",
       "      <td>6</td>\n",
       "      <td>0</td>\n",
       "      <td>3</td>\n",
       "      <td>0</td>\n",
       "      <td>0.333990</td>\n",
       "      <td>0.000000</td>\n",
       "      <td>0.000000</td>\n",
       "      <td>0.166995</td>\n",
       "      <td>0.000000</td>\n",
       "      <td>1.000000</td>\n",
       "      <td>0.0</td>\n",
       "    </tr>\n",
       "    <tr>\n",
       "      <th>2</th>\n",
       "      <td>104308</td>\n",
       "      <td>RO</td>\n",
       "      <td>11.0</td>\n",
       "      <td>2020-04-04</td>\n",
       "      <td>14</td>\n",
       "      <td>1.796460e+06</td>\n",
       "      <td>11</td>\n",
       "      <td>1</td>\n",
       "      <td>5</td>\n",
       "      <td>1</td>\n",
       "      <td>0.612315</td>\n",
       "      <td>0.055665</td>\n",
       "      <td>9.090909</td>\n",
       "      <td>0.278325</td>\n",
       "      <td>0.055665</td>\n",
       "      <td>1.666667</td>\n",
       "      <td>0.0</td>\n",
       "    </tr>\n",
       "    <tr>\n",
       "      <th>3</th>\n",
       "      <td>104316</td>\n",
       "      <td>RO</td>\n",
       "      <td>11.0</td>\n",
       "      <td>2020-04-11</td>\n",
       "      <td>15</td>\n",
       "      <td>1.796460e+06</td>\n",
       "      <td>34</td>\n",
       "      <td>2</td>\n",
       "      <td>23</td>\n",
       "      <td>1</td>\n",
       "      <td>1.892611</td>\n",
       "      <td>0.111330</td>\n",
       "      <td>5.882353</td>\n",
       "      <td>1.280296</td>\n",
       "      <td>0.055665</td>\n",
       "      <td>4.600000</td>\n",
       "      <td>1.0</td>\n",
       "    </tr>\n",
       "    <tr>\n",
       "      <th>4</th>\n",
       "      <td>104326</td>\n",
       "      <td>RO</td>\n",
       "      <td>11.0</td>\n",
       "      <td>2020-04-18</td>\n",
       "      <td>16</td>\n",
       "      <td>1.796460e+06</td>\n",
       "      <td>128</td>\n",
       "      <td>4</td>\n",
       "      <td>94</td>\n",
       "      <td>2</td>\n",
       "      <td>7.125124</td>\n",
       "      <td>0.222660</td>\n",
       "      <td>3.125000</td>\n",
       "      <td>5.232513</td>\n",
       "      <td>0.111330</td>\n",
       "      <td>4.086957</td>\n",
       "      <td>2.0</td>\n",
       "    </tr>\n",
       "  </tbody>\n",
       "</table>\n",
       "</div>"
      ],
      "text/plain": [
       "    index state  ibge_code week_last_day  epidemiological_week  \\\n",
       "0  104301    RO       11.0    2020-03-21                    12   \n",
       "1  104304    RO       11.0    2020-03-28                    13   \n",
       "2  104308    RO       11.0    2020-04-04                    14   \n",
       "3  104316    RO       11.0    2020-04-11                    15   \n",
       "4  104326    RO       11.0    2020-04-18                    16   \n",
       "\n",
       "   total_inhabitants  last_available_confirmed  last_available_deaths  \\\n",
       "0       1.796460e+06                         3                      0   \n",
       "1       1.796460e+06                         6                      0   \n",
       "2       1.796460e+06                        11                      1   \n",
       "3       1.796460e+06                        34                      2   \n",
       "4       1.796460e+06                       128                      4   \n",
       "\n",
       "   new_week_cases  new_week_deaths  prevalence  mortality  lethality  \\\n",
       "0               3                0    0.166995   0.000000   0.000000   \n",
       "1               3                0    0.333990   0.000000   0.000000   \n",
       "2               5                1    0.612315   0.055665   9.090909   \n",
       "3              23                1    1.892611   0.111330   5.882353   \n",
       "4              94                2    7.125124   0.222660   3.125000   \n",
       "\n",
       "   incidence_cases  incidence_deaths  cases_growth_factor  \\\n",
       "0         0.166995          0.000000             0.000000   \n",
       "1         0.166995          0.000000             1.000000   \n",
       "2         0.278325          0.055665             1.666667   \n",
       "3         1.280296          0.055665             4.600000   \n",
       "4         5.232513          0.111330             4.086957   \n",
       "\n",
       "   deaths_growth_factor  \n",
       "0                   0.0  \n",
       "1                   0.0  \n",
       "2                   0.0  \n",
       "3                   1.0  \n",
       "4                   2.0  "
      ]
     },
     "execution_count": 5,
     "metadata": {},
     "output_type": "execute_result"
    }
   ],
   "source": [
    "states = list(df3_.state.unique())\n",
    "df3_.head()"
   ]
  },
  {
   "cell_type": "code",
   "execution_count": 6,
   "metadata": {},
   "outputs": [],
   "source": [
    "# Obter os dados relevantes de cada macro_região e os armazená-los em uma lista de dataframes\n",
    "def get_states(state, relevant_dataframe):\n",
    "    output_df = {}\n",
    "    \n",
    "    for i in state:\n",
    "        output_df[i] = relevant_dataframe[(relevant_dataframe['state']==i)]\n",
    "        output_df[i].set_index('week_last_day', inplace=True)\n",
    "    \n",
    "    return output_df"
   ]
  },
  {
   "cell_type": "code",
   "execution_count": 7,
   "metadata": {},
   "outputs": [],
   "source": [
    "# Encontrar o valor máximo de uma coluna numa lista de dataframes\n",
    "def find_max(lista_de_dataframes,column):\n",
    "    max_value = 0\n",
    "    for i in range(0,len(lista_de_dataframes)):\n",
    "        aux = lista_de_dataframes[i][column].max()\n",
    "        if(aux>max_value):\n",
    "            max_value = aux\n",
    "    return max_value"
   ]
  },
  {
   "cell_type": "code",
   "execution_count": 8,
   "metadata": {},
   "outputs": [],
   "source": [
    "last_available_confirmed_st = df3_[['state','week_last_day','last_available_confirmed']].copy()\n",
    "casos_acumulados = get_states(states,last_available_confirmed_st)"
   ]
  },
  {
   "cell_type": "code",
   "execution_count": 9,
   "metadata": {},
   "outputs": [
    {
     "data": {
      "text/html": [
       "<div>\n",
       "<style scoped>\n",
       "    .dataframe tbody tr th:only-of-type {\n",
       "        vertical-align: middle;\n",
       "    }\n",
       "\n",
       "    .dataframe tbody tr th {\n",
       "        vertical-align: top;\n",
       "    }\n",
       "\n",
       "    .dataframe thead th {\n",
       "        text-align: right;\n",
       "    }\n",
       "</style>\n",
       "<table border=\"1\" class=\"dataframe\">\n",
       "  <thead>\n",
       "    <tr style=\"text-align: right;\">\n",
       "      <th></th>\n",
       "      <th>state</th>\n",
       "      <th>last_available_confirmed</th>\n",
       "    </tr>\n",
       "    <tr>\n",
       "      <th>week_last_day</th>\n",
       "      <th></th>\n",
       "      <th></th>\n",
       "    </tr>\n",
       "  </thead>\n",
       "  <tbody>\n",
       "    <tr>\n",
       "      <th>2020-03-21</th>\n",
       "      <td>RO</td>\n",
       "      <td>3</td>\n",
       "    </tr>\n",
       "    <tr>\n",
       "      <th>2020-03-28</th>\n",
       "      <td>RO</td>\n",
       "      <td>6</td>\n",
       "    </tr>\n",
       "    <tr>\n",
       "      <th>2020-04-04</th>\n",
       "      <td>RO</td>\n",
       "      <td>11</td>\n",
       "    </tr>\n",
       "    <tr>\n",
       "      <th>2020-04-11</th>\n",
       "      <td>RO</td>\n",
       "      <td>34</td>\n",
       "    </tr>\n",
       "    <tr>\n",
       "      <th>2020-04-18</th>\n",
       "      <td>RO</td>\n",
       "      <td>128</td>\n",
       "    </tr>\n",
       "    <tr>\n",
       "      <th>2020-04-25</th>\n",
       "      <td>RO</td>\n",
       "      <td>328</td>\n",
       "    </tr>\n",
       "    <tr>\n",
       "      <th>2020-05-02</th>\n",
       "      <td>RO</td>\n",
       "      <td>654</td>\n",
       "    </tr>\n",
       "    <tr>\n",
       "      <th>2020-05-09</th>\n",
       "      <td>RO</td>\n",
       "      <td>1263</td>\n",
       "    </tr>\n",
       "    <tr>\n",
       "      <th>2020-05-16</th>\n",
       "      <td>RO</td>\n",
       "      <td>1918</td>\n",
       "    </tr>\n",
       "    <tr>\n",
       "      <th>2020-05-23</th>\n",
       "      <td>RO</td>\n",
       "      <td>3109</td>\n",
       "    </tr>\n",
       "    <tr>\n",
       "      <th>2020-05-30</th>\n",
       "      <td>RO</td>\n",
       "      <td>4743</td>\n",
       "    </tr>\n",
       "    <tr>\n",
       "      <th>2020-06-06</th>\n",
       "      <td>RO</td>\n",
       "      <td>7701</td>\n",
       "    </tr>\n",
       "    <tr>\n",
       "      <th>2020-06-13</th>\n",
       "      <td>RO</td>\n",
       "      <td>11632</td>\n",
       "    </tr>\n",
       "    <tr>\n",
       "      <th>2020-06-20</th>\n",
       "      <td>RO</td>\n",
       "      <td>14952</td>\n",
       "    </tr>\n",
       "    <tr>\n",
       "      <th>2020-06-27</th>\n",
       "      <td>RO</td>\n",
       "      <td>19735</td>\n",
       "    </tr>\n",
       "    <tr>\n",
       "      <th>2020-07-04</th>\n",
       "      <td>RO</td>\n",
       "      <td>22957</td>\n",
       "    </tr>\n",
       "    <tr>\n",
       "      <th>2020-07-11</th>\n",
       "      <td>RO</td>\n",
       "      <td>26496</td>\n",
       "    </tr>\n",
       "    <tr>\n",
       "      <th>2020-07-18</th>\n",
       "      <td>RO</td>\n",
       "      <td>29117</td>\n",
       "    </tr>\n",
       "    <tr>\n",
       "      <th>2020-07-25</th>\n",
       "      <td>RO</td>\n",
       "      <td>35573</td>\n",
       "    </tr>\n",
       "    <tr>\n",
       "      <th>2020-08-01</th>\n",
       "      <td>RO</td>\n",
       "      <td>39504</td>\n",
       "    </tr>\n",
       "    <tr>\n",
       "      <th>2020-08-08</th>\n",
       "      <td>RO</td>\n",
       "      <td>43866</td>\n",
       "    </tr>\n",
       "    <tr>\n",
       "      <th>2020-08-15</th>\n",
       "      <td>RO</td>\n",
       "      <td>47652</td>\n",
       "    </tr>\n",
       "    <tr>\n",
       "      <th>2020-08-22</th>\n",
       "      <td>RO</td>\n",
       "      <td>50995</td>\n",
       "    </tr>\n",
       "    <tr>\n",
       "      <th>2020-08-29</th>\n",
       "      <td>RO</td>\n",
       "      <td>54496</td>\n",
       "    </tr>\n",
       "    <tr>\n",
       "      <th>2020-09-05</th>\n",
       "      <td>RO</td>\n",
       "      <td>57865</td>\n",
       "    </tr>\n",
       "    <tr>\n",
       "      <th>2020-09-12</th>\n",
       "      <td>RO</td>\n",
       "      <td>60362</td>\n",
       "    </tr>\n",
       "    <tr>\n",
       "      <th>2020-09-19</th>\n",
       "      <td>RO</td>\n",
       "      <td>62697</td>\n",
       "    </tr>\n",
       "  </tbody>\n",
       "</table>\n",
       "</div>"
      ],
      "text/plain": [
       "              state  last_available_confirmed\n",
       "week_last_day                                \n",
       "2020-03-21       RO                         3\n",
       "2020-03-28       RO                         6\n",
       "2020-04-04       RO                        11\n",
       "2020-04-11       RO                        34\n",
       "2020-04-18       RO                       128\n",
       "2020-04-25       RO                       328\n",
       "2020-05-02       RO                       654\n",
       "2020-05-09       RO                      1263\n",
       "2020-05-16       RO                      1918\n",
       "2020-05-23       RO                      3109\n",
       "2020-05-30       RO                      4743\n",
       "2020-06-06       RO                      7701\n",
       "2020-06-13       RO                     11632\n",
       "2020-06-20       RO                     14952\n",
       "2020-06-27       RO                     19735\n",
       "2020-07-04       RO                     22957\n",
       "2020-07-11       RO                     26496\n",
       "2020-07-18       RO                     29117\n",
       "2020-07-25       RO                     35573\n",
       "2020-08-01       RO                     39504\n",
       "2020-08-08       RO                     43866\n",
       "2020-08-15       RO                     47652\n",
       "2020-08-22       RO                     50995\n",
       "2020-08-29       RO                     54496\n",
       "2020-09-05       RO                     57865\n",
       "2020-09-12       RO                     60362\n",
       "2020-09-19       RO                     62697"
      ]
     },
     "execution_count": 9,
     "metadata": {},
     "output_type": "execute_result"
    }
   ],
   "source": [
    "casos_acumulados[\"RO\"]"
   ]
  },
  {
   "cell_type": "markdown",
   "metadata": {},
   "source": [
    "# Mobilidade"
   ]
  },
  {
   "cell_type": "markdown",
   "metadata": {},
   "source": [
    "## Lendo a base de dados"
   ]
  },
  {
   "cell_type": "code",
   "execution_count": 74,
   "metadata": {},
   "outputs": [],
   "source": [
    "df = pd.read_csv('base_csv/States_Mobility.csv')"
   ]
  },
  {
   "cell_type": "markdown",
   "metadata": {},
   "source": [
    "Função para obter um dicionário que acessa a variação da mobilidade conforme um dia"
   ]
  },
  {
   "cell_type": "code",
   "execution_count": 11,
   "metadata": {},
   "outputs": [],
   "source": [
    "def getData(estado:str, coluna:str):\n",
    "    '''\n",
    "        Input: Uma string correspondendo ao nome da capital de interesse e outra correspondendo a coluna\n",
    "        de interesse.\n",
    "        \n",
    "        Output: Um dicionário que tem os dias como chave e a variação da mobilidade como valores.\n",
    "    '''\n",
    "    teste = df[df[\"iso_3166_2_code\"] == estado]\n",
    "    return dict(zip(list(teste['date']), list(teste[coluna])))"
   ]
  },
  {
   "cell_type": "code",
   "execution_count": 12,
   "metadata": {},
   "outputs": [],
   "source": [
    "df[\"iso_3166_2_code\"] = [i[3:] for i in df[\"iso_3166_2_code\"]]"
   ]
  },
  {
   "cell_type": "code",
   "execution_count": 13,
   "metadata": {},
   "outputs": [
    {
     "data": {
      "text/html": [
       "<div>\n",
       "<style scoped>\n",
       "    .dataframe tbody tr th:only-of-type {\n",
       "        vertical-align: middle;\n",
       "    }\n",
       "\n",
       "    .dataframe tbody tr th {\n",
       "        vertical-align: top;\n",
       "    }\n",
       "\n",
       "    .dataframe thead th {\n",
       "        text-align: right;\n",
       "    }\n",
       "</style>\n",
       "<table border=\"1\" class=\"dataframe\">\n",
       "  <thead>\n",
       "    <tr style=\"text-align: right;\">\n",
       "      <th></th>\n",
       "      <th>Unnamed: 0</th>\n",
       "      <th>country_region_code</th>\n",
       "      <th>country_region</th>\n",
       "      <th>sub_region_1</th>\n",
       "      <th>sub_region_2</th>\n",
       "      <th>metro_area</th>\n",
       "      <th>iso_3166_2_code</th>\n",
       "      <th>census_fips_code</th>\n",
       "      <th>date</th>\n",
       "      <th>retail_and_recreation_percent_change_from_baseline</th>\n",
       "      <th>grocery_and_pharmacy_percent_change_from_baseline</th>\n",
       "      <th>parks_percent_change_from_baseline</th>\n",
       "      <th>transit_stations_percent_change_from_baseline</th>\n",
       "      <th>workplaces_percent_change_from_baseline</th>\n",
       "      <th>residential_percent_change_from_baseline</th>\n",
       "      <th>epidemiological_week</th>\n",
       "    </tr>\n",
       "  </thead>\n",
       "  <tbody>\n",
       "    <tr>\n",
       "      <th>0</th>\n",
       "      <td>0</td>\n",
       "      <td>BR</td>\n",
       "      <td>Brazil</td>\n",
       "      <td>Federal District</td>\n",
       "      <td>NaN</td>\n",
       "      <td>NaN</td>\n",
       "      <td>DF</td>\n",
       "      <td>NaN</td>\n",
       "      <td>2020-02-23</td>\n",
       "      <td>-6.0</td>\n",
       "      <td>-2.0</td>\n",
       "      <td>-18.0</td>\n",
       "      <td>-6.0</td>\n",
       "      <td>-7.0</td>\n",
       "      <td>1.0</td>\n",
       "      <td>9</td>\n",
       "    </tr>\n",
       "    <tr>\n",
       "      <th>1</th>\n",
       "      <td>1</td>\n",
       "      <td>BR</td>\n",
       "      <td>Brazil</td>\n",
       "      <td>Federal District</td>\n",
       "      <td>NaN</td>\n",
       "      <td>NaN</td>\n",
       "      <td>DF</td>\n",
       "      <td>NaN</td>\n",
       "      <td>2020-02-24</td>\n",
       "      <td>-31.0</td>\n",
       "      <td>-15.0</td>\n",
       "      <td>-16.0</td>\n",
       "      <td>-34.0</td>\n",
       "      <td>-61.0</td>\n",
       "      <td>12.0</td>\n",
       "      <td>9</td>\n",
       "    </tr>\n",
       "    <tr>\n",
       "      <th>2</th>\n",
       "      <td>2</td>\n",
       "      <td>BR</td>\n",
       "      <td>Brazil</td>\n",
       "      <td>Federal District</td>\n",
       "      <td>NaN</td>\n",
       "      <td>NaN</td>\n",
       "      <td>DF</td>\n",
       "      <td>NaN</td>\n",
       "      <td>2020-02-25</td>\n",
       "      <td>-39.0</td>\n",
       "      <td>-27.0</td>\n",
       "      <td>14.0</td>\n",
       "      <td>-35.0</td>\n",
       "      <td>-71.0</td>\n",
       "      <td>11.0</td>\n",
       "      <td>9</td>\n",
       "    </tr>\n",
       "    <tr>\n",
       "      <th>3</th>\n",
       "      <td>3</td>\n",
       "      <td>BR</td>\n",
       "      <td>Brazil</td>\n",
       "      <td>Federal District</td>\n",
       "      <td>NaN</td>\n",
       "      <td>NaN</td>\n",
       "      <td>DF</td>\n",
       "      <td>NaN</td>\n",
       "      <td>2020-02-26</td>\n",
       "      <td>-20.0</td>\n",
       "      <td>-7.0</td>\n",
       "      <td>-14.0</td>\n",
       "      <td>-17.0</td>\n",
       "      <td>-22.0</td>\n",
       "      <td>9.0</td>\n",
       "      <td>9</td>\n",
       "    </tr>\n",
       "    <tr>\n",
       "      <th>4</th>\n",
       "      <td>4</td>\n",
       "      <td>BR</td>\n",
       "      <td>Brazil</td>\n",
       "      <td>Federal District</td>\n",
       "      <td>NaN</td>\n",
       "      <td>NaN</td>\n",
       "      <td>DF</td>\n",
       "      <td>NaN</td>\n",
       "      <td>2020-02-27</td>\n",
       "      <td>-4.0</td>\n",
       "      <td>5.0</td>\n",
       "      <td>16.0</td>\n",
       "      <td>5.0</td>\n",
       "      <td>17.0</td>\n",
       "      <td>-1.0</td>\n",
       "      <td>9</td>\n",
       "    </tr>\n",
       "    <tr>\n",
       "      <th>...</th>\n",
       "      <td>...</td>\n",
       "      <td>...</td>\n",
       "      <td>...</td>\n",
       "      <td>...</td>\n",
       "      <td>...</td>\n",
       "      <td>...</td>\n",
       "      <td>...</td>\n",
       "      <td>...</td>\n",
       "      <td>...</td>\n",
       "      <td>...</td>\n",
       "      <td>...</td>\n",
       "      <td>...</td>\n",
       "      <td>...</td>\n",
       "      <td>...</td>\n",
       "      <td>...</td>\n",
       "      <td>...</td>\n",
       "    </tr>\n",
       "    <tr>\n",
       "      <th>5665</th>\n",
       "      <td>5665</td>\n",
       "      <td>BR</td>\n",
       "      <td>Brazil</td>\n",
       "      <td>State of Tocantins</td>\n",
       "      <td>NaN</td>\n",
       "      <td>NaN</td>\n",
       "      <td>TO</td>\n",
       "      <td>NaN</td>\n",
       "      <td>2020-09-15</td>\n",
       "      <td>NaN</td>\n",
       "      <td>NaN</td>\n",
       "      <td>NaN</td>\n",
       "      <td>NaN</td>\n",
       "      <td>-3.0</td>\n",
       "      <td>9.0</td>\n",
       "      <td>38</td>\n",
       "    </tr>\n",
       "    <tr>\n",
       "      <th>5666</th>\n",
       "      <td>5666</td>\n",
       "      <td>BR</td>\n",
       "      <td>Brazil</td>\n",
       "      <td>State of Tocantins</td>\n",
       "      <td>NaN</td>\n",
       "      <td>NaN</td>\n",
       "      <td>TO</td>\n",
       "      <td>NaN</td>\n",
       "      <td>2020-09-16</td>\n",
       "      <td>NaN</td>\n",
       "      <td>NaN</td>\n",
       "      <td>NaN</td>\n",
       "      <td>NaN</td>\n",
       "      <td>-3.0</td>\n",
       "      <td>9.0</td>\n",
       "      <td>38</td>\n",
       "    </tr>\n",
       "    <tr>\n",
       "      <th>5667</th>\n",
       "      <td>5667</td>\n",
       "      <td>BR</td>\n",
       "      <td>Brazil</td>\n",
       "      <td>State of Tocantins</td>\n",
       "      <td>NaN</td>\n",
       "      <td>NaN</td>\n",
       "      <td>TO</td>\n",
       "      <td>NaN</td>\n",
       "      <td>2020-09-17</td>\n",
       "      <td>NaN</td>\n",
       "      <td>NaN</td>\n",
       "      <td>NaN</td>\n",
       "      <td>NaN</td>\n",
       "      <td>-4.0</td>\n",
       "      <td>9.0</td>\n",
       "      <td>38</td>\n",
       "    </tr>\n",
       "    <tr>\n",
       "      <th>5668</th>\n",
       "      <td>5668</td>\n",
       "      <td>BR</td>\n",
       "      <td>Brazil</td>\n",
       "      <td>State of Tocantins</td>\n",
       "      <td>NaN</td>\n",
       "      <td>NaN</td>\n",
       "      <td>TO</td>\n",
       "      <td>NaN</td>\n",
       "      <td>2020-09-18</td>\n",
       "      <td>NaN</td>\n",
       "      <td>NaN</td>\n",
       "      <td>NaN</td>\n",
       "      <td>NaN</td>\n",
       "      <td>0.0</td>\n",
       "      <td>9.0</td>\n",
       "      <td>38</td>\n",
       "    </tr>\n",
       "    <tr>\n",
       "      <th>5669</th>\n",
       "      <td>5669</td>\n",
       "      <td>BR</td>\n",
       "      <td>Brazil</td>\n",
       "      <td>State of Tocantins</td>\n",
       "      <td>NaN</td>\n",
       "      <td>NaN</td>\n",
       "      <td>TO</td>\n",
       "      <td>NaN</td>\n",
       "      <td>2020-09-19</td>\n",
       "      <td>NaN</td>\n",
       "      <td>NaN</td>\n",
       "      <td>NaN</td>\n",
       "      <td>NaN</td>\n",
       "      <td>3.0</td>\n",
       "      <td>7.0</td>\n",
       "      <td>38</td>\n",
       "    </tr>\n",
       "  </tbody>\n",
       "</table>\n",
       "<p>5670 rows × 16 columns</p>\n",
       "</div>"
      ],
      "text/plain": [
       "      Unnamed: 0 country_region_code country_region        sub_region_1  \\\n",
       "0              0                  BR         Brazil    Federal District   \n",
       "1              1                  BR         Brazil    Federal District   \n",
       "2              2                  BR         Brazil    Federal District   \n",
       "3              3                  BR         Brazil    Federal District   \n",
       "4              4                  BR         Brazil    Federal District   \n",
       "...          ...                 ...            ...                 ...   \n",
       "5665        5665                  BR         Brazil  State of Tocantins   \n",
       "5666        5666                  BR         Brazil  State of Tocantins   \n",
       "5667        5667                  BR         Brazil  State of Tocantins   \n",
       "5668        5668                  BR         Brazil  State of Tocantins   \n",
       "5669        5669                  BR         Brazil  State of Tocantins   \n",
       "\n",
       "      sub_region_2  metro_area iso_3166_2_code  census_fips_code        date  \\\n",
       "0              NaN         NaN              DF               NaN  2020-02-23   \n",
       "1              NaN         NaN              DF               NaN  2020-02-24   \n",
       "2              NaN         NaN              DF               NaN  2020-02-25   \n",
       "3              NaN         NaN              DF               NaN  2020-02-26   \n",
       "4              NaN         NaN              DF               NaN  2020-02-27   \n",
       "...            ...         ...             ...               ...         ...   \n",
       "5665           NaN         NaN              TO               NaN  2020-09-15   \n",
       "5666           NaN         NaN              TO               NaN  2020-09-16   \n",
       "5667           NaN         NaN              TO               NaN  2020-09-17   \n",
       "5668           NaN         NaN              TO               NaN  2020-09-18   \n",
       "5669           NaN         NaN              TO               NaN  2020-09-19   \n",
       "\n",
       "      retail_and_recreation_percent_change_from_baseline  \\\n",
       "0                                                  -6.0    \n",
       "1                                                 -31.0    \n",
       "2                                                 -39.0    \n",
       "3                                                 -20.0    \n",
       "4                                                  -4.0    \n",
       "...                                                 ...    \n",
       "5665                                                NaN    \n",
       "5666                                                NaN    \n",
       "5667                                                NaN    \n",
       "5668                                                NaN    \n",
       "5669                                                NaN    \n",
       "\n",
       "      grocery_and_pharmacy_percent_change_from_baseline  \\\n",
       "0                                                  -2.0   \n",
       "1                                                 -15.0   \n",
       "2                                                 -27.0   \n",
       "3                                                  -7.0   \n",
       "4                                                   5.0   \n",
       "...                                                 ...   \n",
       "5665                                                NaN   \n",
       "5666                                                NaN   \n",
       "5667                                                NaN   \n",
       "5668                                                NaN   \n",
       "5669                                                NaN   \n",
       "\n",
       "      parks_percent_change_from_baseline  \\\n",
       "0                                  -18.0   \n",
       "1                                  -16.0   \n",
       "2                                   14.0   \n",
       "3                                  -14.0   \n",
       "4                                   16.0   \n",
       "...                                  ...   \n",
       "5665                                 NaN   \n",
       "5666                                 NaN   \n",
       "5667                                 NaN   \n",
       "5668                                 NaN   \n",
       "5669                                 NaN   \n",
       "\n",
       "      transit_stations_percent_change_from_baseline  \\\n",
       "0                                              -6.0   \n",
       "1                                             -34.0   \n",
       "2                                             -35.0   \n",
       "3                                             -17.0   \n",
       "4                                               5.0   \n",
       "...                                             ...   \n",
       "5665                                            NaN   \n",
       "5666                                            NaN   \n",
       "5667                                            NaN   \n",
       "5668                                            NaN   \n",
       "5669                                            NaN   \n",
       "\n",
       "      workplaces_percent_change_from_baseline  \\\n",
       "0                                        -7.0   \n",
       "1                                       -61.0   \n",
       "2                                       -71.0   \n",
       "3                                       -22.0   \n",
       "4                                        17.0   \n",
       "...                                       ...   \n",
       "5665                                     -3.0   \n",
       "5666                                     -3.0   \n",
       "5667                                     -4.0   \n",
       "5668                                      0.0   \n",
       "5669                                      3.0   \n",
       "\n",
       "      residential_percent_change_from_baseline  epidemiological_week  \n",
       "0                                          1.0                     9  \n",
       "1                                         12.0                     9  \n",
       "2                                         11.0                     9  \n",
       "3                                          9.0                     9  \n",
       "4                                         -1.0                     9  \n",
       "...                                        ...                   ...  \n",
       "5665                                       9.0                    38  \n",
       "5666                                       9.0                    38  \n",
       "5667                                       9.0                    38  \n",
       "5668                                       9.0                    38  \n",
       "5669                                       7.0                    38  \n",
       "\n",
       "[5670 rows x 16 columns]"
      ]
     },
     "execution_count": 13,
     "metadata": {},
     "output_type": "execute_result"
    }
   ],
   "source": [
    "df"
   ]
  },
  {
   "cell_type": "markdown",
   "metadata": {},
   "source": [
    "### Configuração do Layout"
   ]
  },
  {
   "cell_type": "code",
   "execution_count": 14,
   "metadata": {},
   "outputs": [],
   "source": [
    "layout = go.Layout(width=1200,\n",
    "    height=350,\n",
    "    margin=dict(l=200, r=100, t=60, b=20),\n",
    "    #paper_bgcolor=\"black\",\n",
    "    #geo=dict(bgcolor= 'rgba(0,0,0,0)')\n",
    "    paper_bgcolor='rgba(0,0,0,0)',\n",
    "    plot_bgcolor='rgba(0,0,0,0)',\n",
    "    title_font=dict(size=20),\n",
    "    legend=dict(orientation=\"v\",yanchor=\"bottom\",x = 0.05,y=0.80,xanchor=\"left\"),\n",
    "    \n",
    "    \n",
    "    xaxis=dict(\n",
    "        showline=False,\n",
    "        showgrid=False,\n",
    "        showticklabels=True,\n",
    "        linecolor='rgb(204, 204, 204)',\n",
    "        ticks='outside', \n",
    "        linewidth=2,\n",
    "        tickfont=dict(\n",
    "            family='Arial',\n",
    "            size=12,\n",
    "            color='rgb(82, 82, 82)',\n",
    "        )\n",
    "    ),\n",
    "    \n",
    "    yaxis=dict(\n",
    "        showline=False,\n",
    "        showgrid=False,\n",
    "        showticklabels=True,\n",
    "        linecolor='rgb(204, 204, 204)',\n",
    "        ticks='outside', \n",
    "        linewidth=2,\n",
    "        tickfont=dict(\n",
    "            family='Arial',\n",
    "            size=12,\n",
    "            color='rgb(82, 82, 82)',\n",
    "        )\n",
    "    ),\n",
    "    \n",
    "    yaxis2=dict(\n",
    "        showline=False,\n",
    "        showgrid=False,\n",
    "        showticklabels=True,\n",
    "        side=\"right\",\n",
    "        linecolor='rgb(204, 204, 204)',\n",
    "        ticks='inside',\n",
    "        linewidth=2,\n",
    "        tickfont=dict(\n",
    "            family='Arial',\n",
    "            size=12,\n",
    "            color='rgb(82, 82, 82)',\n",
    "        )\n",
    "    )\n",
    "                  \n",
    "    )"
   ]
  },
  {
   "cell_type": "markdown",
   "metadata": {},
   "source": [
    "### Listas com cidades e colunas que se deseja visualizar"
   ]
  },
  {
   "cell_type": "markdown",
   "metadata": {},
   "source": [
    "Há um problema com Brasília, que por algum motivo não é encontrada em sub_region_2."
   ]
  },
  {
   "cell_type": "markdown",
   "metadata": {},
   "source": [
    "O problema não é de digitação."
   ]
  },
  {
   "cell_type": "code",
   "execution_count": 15,
   "metadata": {},
   "outputs": [
    {
     "data": {
      "text/plain": [
       "['RO',\n",
       " 'AC',\n",
       " 'AM',\n",
       " 'RR',\n",
       " 'PA',\n",
       " 'AP',\n",
       " 'TO',\n",
       " 'MA',\n",
       " 'PI',\n",
       " 'CE',\n",
       " 'RN',\n",
       " 'PB',\n",
       " 'PE',\n",
       " 'AL',\n",
       " 'SE',\n",
       " 'BA',\n",
       " 'MG',\n",
       " 'ES',\n",
       " 'RJ',\n",
       " 'SP',\n",
       " 'PR',\n",
       " 'SC',\n",
       " 'RS',\n",
       " 'MS',\n",
       " 'MT',\n",
       " 'GO',\n",
       " 'DF']"
      ]
     },
     "execution_count": 15,
     "metadata": {},
     "output_type": "execute_result"
    }
   ],
   "source": [
    "# CRIADO NA SEÇÃO INDICADORES\n",
    "states"
   ]
  },
  {
   "cell_type": "markdown",
   "metadata": {},
   "source": [
    "Verificando se as cidades da lista acima estão no DataFrame"
   ]
  },
  {
   "cell_type": "code",
   "execution_count": 16,
   "metadata": {},
   "outputs": [
    {
     "name": "stdout",
     "output_type": "stream",
     "text": [
      "RO\n",
      "False\n",
      "AC\n",
      "False\n",
      "AM\n",
      "False\n",
      "RR\n",
      "False\n",
      "PA\n",
      "False\n",
      "AP\n",
      "False\n",
      "TO\n",
      "False\n",
      "MA\n",
      "False\n",
      "PI\n",
      "False\n",
      "CE\n",
      "False\n",
      "RN\n",
      "False\n",
      "PB\n",
      "False\n",
      "PE\n",
      "False\n",
      "AL\n",
      "False\n",
      "SE\n",
      "False\n",
      "BA\n",
      "False\n",
      "MG\n",
      "False\n",
      "ES\n",
      "False\n",
      "RJ\n",
      "False\n",
      "SP\n",
      "False\n",
      "PR\n",
      "False\n",
      "SC\n",
      "False\n",
      "RS\n",
      "False\n",
      "MS\n",
      "False\n",
      "MT\n",
      "False\n",
      "GO\n",
      "False\n",
      "DF\n",
      "False\n"
     ]
    }
   ],
   "source": [
    "for state in states:\n",
    "    print(state)\n",
    "    print(state in [i[3:] for i in df[\"iso_3166_2_code\"].unique()])"
   ]
  },
  {
   "cell_type": "markdown",
   "metadata": {},
   "source": [
    "Listando colunas com as variações de mobilidade para cada tipo de ambiente"
   ]
  },
  {
   "cell_type": "code",
   "execution_count": 17,
   "metadata": {},
   "outputs": [],
   "source": [
    "percentChangeColumns = [\n",
    "    \"retail_and_recreation_percent_change_from_baseline\",\n",
    "    \"grocery_and_pharmacy_percent_change_from_baseline\",\n",
    "    \"parks_percent_change_from_baseline\",\n",
    "    \"transit_stations_percent_change_from_baseline\",\n",
    "    \"workplaces_percent_change_from_baseline\",\n",
    "    \"residential_percent_change_from_baseline\"\n",
    "]"
   ]
  },
  {
   "cell_type": "code",
   "execution_count": 18,
   "metadata": {},
   "outputs": [],
   "source": [
    "indices = [\n",
    "    \"last_available_confirmed\",\n",
    "    \"last_available_deaths\",\n",
    "    \"new_week_cases\",\n",
    "    \"new_week_deaths\",\n",
    "    \"prevalence\",\n",
    "    \"mortality\",\n",
    "    \"lethality\",\n",
    "    \"incidence_cases\",\n",
    "    \"incidence_deaths\",\n",
    "    \"cases_growth_factor\",\n",
    "    \"deaths_growth_factor\"\n",
    "]"
   ]
  },
  {
   "cell_type": "markdown",
   "metadata": {},
   "source": [
    "## Criando uma função para plotar o gráfico"
   ]
  },
  {
   "cell_type": "markdown",
   "metadata": {},
   "source": [
    "Função que recebe uma coluna do gráfico e retorna um nome mais legível correspondente a ela, a fim de acoplar ao título do gráfico."
   ]
  },
  {
   "cell_type": "code",
   "execution_count": 19,
   "metadata": {},
   "outputs": [],
   "source": [
    "def columnName(coluna:str):\n",
    "    if coluna == \"retail_and_recreation_percent_change_from_baseline\":\n",
    "        return \"Varejo e Lazer\"\n",
    "    if coluna == \"grocery_and_pharmacy_percent_change_from_baseline\":\n",
    "        return \"Mercados e Farmácias\"\n",
    "    if coluna == \"parks_percent_change_from_baseline\":\n",
    "        return \"Parques\"\n",
    "    if coluna == \"transit_stations_percent_change_from_baseline\":\n",
    "        return \"Estações de Transporte Público\"\n",
    "    if coluna == \"workplaces_percent_change_from_baseline\":\n",
    "        return \"Locais de Trabalho\"\n",
    "    if coluna == \"residential_percent_change_from_baseline\":\n",
    "        return \"Residencial\""
   ]
  },
  {
   "cell_type": "code",
   "execution_count": 20,
   "metadata": {},
   "outputs": [],
   "source": [
    "def indicName(coluna:str):\n",
    "    if coluna == \"last_available_confirmed\":\n",
    "        return \"Casos Acumulados\"\n",
    "    if coluna == \"last_available_deaths\":\n",
    "        return \"Óbitos Acumulados\"\n",
    "    if coluna == \"new_week_cases\":\n",
    "        return \"Novos Casos\"\n",
    "    if coluna == \"new_week_deaths\":\n",
    "        return \"Novos Óbitos\"\n",
    "    if coluna == \"prevalence\":\n",
    "        return \"Prevalência\"\n",
    "    if coluna == \"mortality\":\n",
    "        return \"Mortalidade\"\n",
    "    if coluna == \"lethality\":\n",
    "        return \"Letalidade\"\n",
    "    if coluna == \"incidence_cases\":\n",
    "        return \"Incidência de Casos\"\n",
    "    if coluna == \"incidence_deaths\":\n",
    "        return \"Incidência de Mortes\"\n",
    "    if coluna == \"cases_growth_factor\":\n",
    "        return \"Fator de Crescimento de Casos\"\n",
    "    if coluna == \"deaths_growth_factor\":\n",
    "        return \"Fator de Crescimento de Mortes\""
   ]
  },
  {
   "cell_type": "markdown",
   "metadata": {},
   "source": [
    "Essa função recebe um nome de cidade e uma coluna do DataFrame e, a partir disso, projeta a variação no valor contido nessa coluna para cada dia, com relação à \"baseline\"."
   ]
  },
  {
   "cell_type": "markdown",
   "metadata": {},
   "source": [
    "Informações sobre a caracterização geral dos dados estão disponíveis no README dessa pasta."
   ]
  },
  {
   "cell_type": "code",
   "execution_count": 21,
   "metadata": {},
   "outputs": [],
   "source": [
    "def plotCapital(capital:str, coluna:str, col_bar:str):\n",
    "    coluna_indicador = df3_[['state','week_last_day',col_bar]].copy()\n",
    "    casos = get_states(states,coluna_indicador)\n",
    "    dados = getData(capital, coluna)\n",
    "    fig = go.Figure(layout=layout)\n",
    "    fig.add_trace(go.Bar(\n",
    "            x = casos[capital].index,\n",
    "            y = casos[capital][col_bar],\n",
    "            name=indicName(col_bar),\n",
    "            yaxis='y2',\n",
    "            hoverinfo = \"all\",\n",
    "            marker_color ='green',\n",
    "            marker_line_width=1.5,\n",
    "            marker_line_color='rgb(8,48,107)',\n",
    "            opacity=0.5\n",
    "        ))\n",
    "    fig.add_trace(go.Scatter(\n",
    "            mode='lines+markers',\n",
    "            x = list(dados.keys()),\n",
    "            y = list(dados.values()),\n",
    "            hoverinfo = \"all\",\n",
    "            hoveron = \"points\",\n",
    "            yaxis = \"y\",\n",
    "            fill = \"tonexty\",\n",
    "            name='Mudança percentual em '+ columnName(coluna) + ' - ' + capital,\n",
    "            marker_color='crimson'\n",
    "        ))\n",
    "\n",
    "  \n",
    "    fig.update_yaxes(visible=True, showticklabels=True)\n",
    "    fig.update_xaxes(title='', visible=True, showticklabels=True)\n",
    "    \n",
    "    #Título\n",
    "    update = []\n",
    "    titulo = 'Mudança percentual em '+ columnName(coluna) + ' - ' + capital\n",
    "    tipografia = dict(family='Arial', size=25, color='rgb(37,37,37)')\n",
    "    update.append(\n",
    "        dict(xref='paper', yref='paper', x=0.15, y=1, xanchor='left', yanchor='bottom',text=titulo, font=tipografia,showarrow=False)\n",
    "    )\n",
    "    \n",
    "    #\"Rodape\"\n",
    "    fonte = \"Covid Data Analytics\"\n",
    "    tipografia2 = dict(family='Arial', size=12, color='rgb(150,150,150)')\n",
    "    update.append(\n",
    "        dict(xref='paper', yref='paper', x=0.445, y=-0.20, xanchor='left', yanchor='bottom',text=fonte, font=tipografia2,showarrow=False)\n",
    "    )\n",
    "\n",
    "    if str(dados[\"2020-08-17\"])=='nan':\n",
    "        #\"Rodape\"\n",
    "        fonte = \"*Os dados de Mobilidade referentes a \" + columnName(coluna) + \" a partir de 17/08/2020 não estão disponíveis\"\n",
    "        tipografia2 = dict(family='Arial', size=12, color='rgb(150,150,150)')\n",
    "        update.append(\n",
    "            dict(xref='paper', yref='paper', x=0.445, y=-0.25, xanchor='left', yanchor='bottom',text=fonte, font=tipografia2,showarrow=False)\n",
    "        )\n",
    "    #Max value\n",
    "    maximo = max(list(dados.values()))\n",
    "    update.append(dict(xref='x', yref='y', x=list(dados.keys())[list(dados.values()).index(maximo)], y=maximo,\n",
    "                                      xanchor='right', yanchor='auto',\n",
    "                                      text='{:.2f}'.format(max(list(dados.values()))),\n",
    "                                      font=dict(family='Impact bold',\n",
    "                                                size=13,\n",
    "                                                ),\n",
    "                                      showarrow=True, arrowhead=1,\n",
    "                                      arrowcolor = 'black',\n",
    "                                      bordercolor=\"#A9A9A9\",\n",
    "                                      borderwidth=2,\n",
    "                                      borderpad=4,\n",
    "                                      bgcolor=\"#F0FFFF\",\n",
    "                                      opacity=0.95))\n",
    "\n",
    "    #Min value\n",
    "    minimo = min(list(dados.values()))\n",
    "    update.append(dict(xref='x', yref='y', x=list(dados.keys())[list(dados.values()).index(minimo)], y=minimo,\n",
    "                                      xanchor='right', yanchor='auto',\n",
    "                                      text='{:.2f}'.format(min(list(dados.values()))),\n",
    "                                      font=dict(family='Impact bold',\n",
    "                                                size=13,\n",
    "                                                ),\n",
    "                                      showarrow=True, arrowhead=1,\n",
    "                                      arrowcolor = 'black',\n",
    "                                      bordercolor=\"#A9A9A9\",\n",
    "                                      borderwidth=2,\n",
    "                                      borderpad=4,\n",
    "                                      bgcolor=\"#F0FFFF\",\n",
    "                                      opacity=0.95))\n",
    "\n",
    "    fig.update_layout(annotations=update)\n",
    "    \n",
    "    coluna = coluna.split(\"_percent\")[0]\n",
    "\n",
    "    py.plot(fig, filename=os.getcwd() + '/Views/' + capital + '/' + col_bar + '/' + capital + '_' + col_bar + '_'+ coluna + '.html', auto_open = False)"
   ]
  },
  {
   "cell_type": "markdown",
   "metadata": {},
   "source": [
    "#### Criando diretórios para armazenar os gráficos"
   ]
  },
  {
   "cell_type": "code",
   "execution_count": 21,
   "metadata": {},
   "outputs": [],
   "source": [
    "# define the name of the directory to be created\n",
    "os.mkdir(\"Views\")\n",
    "for coluna in states:\n",
    "    os.mkdir('Views/' + coluna)\n",
    "    for indice in indices:\n",
    "        os.mkdir('Views/' + coluna+'/'+indice)"
   ]
  },
  {
   "cell_type": "markdown",
   "metadata": {},
   "source": [
    "## Produzindo os gráficos"
   ]
  },
  {
   "cell_type": "code",
   "execution_count": 137,
   "metadata": {},
   "outputs": [],
   "source": [
    "plotCapital(\"AC\",\"grocery_and_pharmacy_percent_change_from_baseline\",'last_available_confirmed')"
   ]
  },
  {
   "cell_type": "code",
   "execution_count": 201,
   "metadata": {},
   "outputs": [],
   "source": [
    "for state in states:\n",
    "    for coluna in percentChangeColumns:\n",
    "        for indice in indices:\n",
    "            plotCapital(state, coluna,indice)"
   ]
  },
  {
   "cell_type": "markdown",
   "metadata": {},
   "source": [
    "# CORRELAÇÃO"
   ]
  },
  {
   "cell_type": "markdown",
   "metadata": {},
   "source": [
    "## Preparando dados dos indicadores e mobilidade"
   ]
  },
  {
   "cell_type": "code",
   "execution_count": 22,
   "metadata": {},
   "outputs": [],
   "source": [
    "# dados dos indicadores\n",
    "coluna_indicador_ = df3_.drop([\"ibge_code\", \"index\"], axis=1).copy()\n",
    "# dados mobilidade\n",
    "dados_ = df.drop([\"Unnamed: 0\",\"country_region_code\",\"country_region\",\"sub_region_1\",\"sub_region_2\", \"metro_area\",\"census_fips_code\"],axis=1).copy()"
   ]
  },
  {
   "cell_type": "markdown",
   "metadata": {},
   "source": [
    "## Função para plotar gráficos de correlação"
   ]
  },
  {
   "cell_type": "code",
   "execution_count": 72,
   "metadata": {},
   "outputs": [],
   "source": [
    "def plotRelacao(estado:str,mobilidade:str,indicador:str, lag:int, plot:bool, show: bool):\n",
    "    \n",
    "    # seleciona os dados referentes ao estado escolhido\n",
    "    coluna_indicador_state = coluna_indicador_[coluna_indicador_.state==estado].copy()\n",
    "    dados_state = dados_[dados_[\"iso_3166_2_code\"] == \"SP\"]\n",
    "    \n",
    "    # lista dos ultimos dias de cada semana epidemiologica\n",
    "    week_last_day = list(coluna_indicador_state.week_last_day.values).copy()\n",
    "    # gerar lista com o dia de cada semana com maior mobilidade\n",
    "    dia_maior = []\n",
    "    maior = -100\n",
    "    mudou = False\n",
    "    for i in dados_state.index:\n",
    "        if dados_state[mobilidade][i] > maior:\n",
    "            maior = dados_state[mobilidade][i]\n",
    "            dia = dados_state.date[i]\n",
    "            mudou = True\n",
    "        if dados_state['date'][i] in week_last_day:\n",
    "            if mudou == False:\n",
    "                break\n",
    "            dia_maior.append(dia)\n",
    "            maior = -100\n",
    "            mudou = False\n",
    "    # unir os dados de mobilidade e indicador em um dataframe\n",
    "    if lag!=0:\n",
    "        df_state = dados_state.set_index('date').T[dia_maior].T.reset_index()[[\"date\",mobilidade]][:-lag].copy()\n",
    "    else:\n",
    "        df_state = dados_state.set_index('date').T[dia_maior].T.reset_index()[[\"date\",mobilidade]].copy()\n",
    "    df_state[indicador] = coluna_indicador_state[indicador].values[lag:(len(dia_maior))]\n",
    "    df_state[\"epidemiological_week\"] = coluna_indicador_state['epidemiological_week'].values[lag:(len(dia_maior))]\n",
    "    \n",
    "    if plot==True or show==True:\n",
    "        # plotar gráfico com x indicador e y local de referencia para mobilidade\n",
    "        titulo = mobilidade + \" x \" + indicador +\" em \"+ estado\n",
    "        fig = go.Figure()\n",
    "        fig = px.scatter(df_state,x=indicador, y=mobilidade, hover_data=[\"epidemiological_week\"], title = titulo )\n",
    "        fig.update_traces(mode='markers')\n",
    "        # gráfico com 2 linhas, uma para indicador e uma para mobilidade\n",
    "        titulo2 = mobilidade + \" x \" + indicador +\" em \"+ estado\n",
    "        fig2 = go.Figure(layout = layout)\n",
    "        fig2.add_trace(go.Scatter(x=df_state[\"epidemiological_week\"], y=df_state[indicador], name = indicador, yaxis = \"y2\"))# hover_data=[\"epidemiological_week\"],\n",
    "        fig2.add_trace(go.Scatter(x=df_state[\"epidemiological_week\"], y=df_state[mobilidade], name = mobilidade, yaxis = \"y\"))# hover_data=[\"epidemiological_week\"],\n",
    "        fig2.update_traces(mode='lines+markers')\n",
    "        update = []\n",
    "        tipografia = dict(family='Arial', size=18, color='rgb(37,37,37)')\n",
    "        update.append(\n",
    "            dict( xref='paper', yref='paper', x=0, y=1, xanchor='left', yanchor='bottom',text=titulo2, font=tipografia,showarrow=False)\n",
    "        )\n",
    "        fig2.update_layout(annotations=update)   \n",
    "        \n",
    "        if plot == True:\n",
    "            py.plot(fig,filename=os.getcwd() +'/Graphs_Corr/'+ estado+'/'+indicador+'/'+'graph'+\"_\"+mobilidade+\"_\"+indicador+\"_\"+estado+'.html', auto_open=False)\n",
    "            py.plot(fig2,filename=os.getcwd() +'/Graphs_Corr/'+ estado+'/'+indicador+'/'+'graph'+\"_lines\"+\"_\"+mobilidade+\"_\"+indicador+\"_\"+estado+'.html', auto_open=False)\n",
    "        if show==True:\n",
    "            fig.show()\n",
    "            fig2.show()\n",
    "    # calcular correlação de pearson e retornar somente o coeficiente de correlação, a função retorna um par (coeficiente, p-value)\n",
    "    corr = stats.pearsonr(df_state[indicador],df_state[mobilidade])\n",
    "    return corr[0]"
   ]
  },
  {
   "cell_type": "markdown",
   "metadata": {},
   "source": [
    "## Criar pasta para armazenar gráficos"
   ]
  },
  {
   "cell_type": "code",
   "execution_count": 198,
   "metadata": {},
   "outputs": [
    {
     "ename": "FileExistsError",
     "evalue": "[WinError 183] Não é possível criar um arquivo já existente: 'Graphs_Corr'",
     "output_type": "error",
     "traceback": [
      "\u001b[1;31m---------------------------------------------------------------------------\u001b[0m",
      "\u001b[1;31mFileExistsError\u001b[0m                           Traceback (most recent call last)",
      "\u001b[1;32m<ipython-input-198-4ec855e8b3e3>\u001b[0m in \u001b[0;36m<module>\u001b[1;34m\u001b[0m\n\u001b[0;32m      2\u001b[0m \u001b[1;33m\u001b[0m\u001b[0m\n\u001b[0;32m      3\u001b[0m \u001b[1;31m# define the name of the directory to be created\u001b[0m\u001b[1;33m\u001b[0m\u001b[1;33m\u001b[0m\u001b[1;33m\u001b[0m\u001b[0m\n\u001b[1;32m----> 4\u001b[1;33m \u001b[0mos\u001b[0m\u001b[1;33m.\u001b[0m\u001b[0mmkdir\u001b[0m\u001b[1;33m(\u001b[0m\u001b[1;34m\"Graphs_Corr\"\u001b[0m\u001b[1;33m)\u001b[0m\u001b[1;33m\u001b[0m\u001b[1;33m\u001b[0m\u001b[0m\n\u001b[0m\u001b[0;32m      5\u001b[0m \u001b[1;32mfor\u001b[0m \u001b[0mcoluna\u001b[0m \u001b[1;32min\u001b[0m \u001b[0mstates\u001b[0m\u001b[1;33m:\u001b[0m\u001b[1;33m\u001b[0m\u001b[1;33m\u001b[0m\u001b[0m\n\u001b[0;32m      6\u001b[0m     \u001b[0mos\u001b[0m\u001b[1;33m.\u001b[0m\u001b[0mmkdir\u001b[0m\u001b[1;33m(\u001b[0m\u001b[1;34m'Graphs_Corr/'\u001b[0m \u001b[1;33m+\u001b[0m \u001b[0mcoluna\u001b[0m\u001b[1;33m)\u001b[0m\u001b[1;33m\u001b[0m\u001b[1;33m\u001b[0m\u001b[0m\n",
      "\u001b[1;31mFileExistsError\u001b[0m: [WinError 183] Não é possível criar um arquivo já existente: 'Graphs_Corr'"
     ]
    }
   ],
   "source": [
    "import os\n",
    "\n",
    "# define the name of the directory to be created\n",
    "os.mkdir(\"Graphs_Corr\")\n",
    "for coluna in states:\n",
    "    os.mkdir('Graphs_Corr/' + coluna)\n",
    "    for indice in indices:\n",
    "        os.mkdir('Graphs_Corr/' + coluna+'/'+indice)"
   ]
  },
  {
   "cell_type": "markdown",
   "metadata": {},
   "source": [
    "## Plotar gráficos e criar matriz de correlação"
   ]
  },
  {
   "cell_type": "code",
   "execution_count": 67,
   "metadata": {},
   "outputs": [],
   "source": [
    "def plotcorr(show:bool,plot:bool, lag:int):\n",
    "    i=0\n",
    "    j=0\n",
    "    corr = np.zeros((6,11))\n",
    "    for coluna in percentChangeColumns:\n",
    "        for indice in indices:\n",
    "            corr[i][j] = plotRelacao('SP',coluna, indice, lag, plot,show)\n",
    "            j+=1\n",
    "        i+=1\n",
    "        j=0\n",
    "    return corr"
   ]
  },
  {
   "cell_type": "code",
   "execution_count": 68,
   "metadata": {},
   "outputs": [],
   "source": [
    "corr = plotcorr(False,False, 0)\n",
    "corr1 = plotcorr(False,False, 1)\n",
    "corr2 = plotcorr(False,False, 2)"
   ]
  },
  {
   "cell_type": "code",
   "execution_count": 73,
   "metadata": {},
   "outputs": [
    {
     "data": {
      "application/vnd.plotly.v1+json": {
       "config": {
        "plotlyServerURL": "https://plot.ly"
       },
       "data": [
        {
         "customdata": [
          [
           11
          ],
          [
           12
          ],
          [
           13
          ],
          [
           14
          ],
          [
           15
          ],
          [
           16
          ],
          [
           17
          ],
          [
           18
          ],
          [
           19
          ],
          [
           20
          ],
          [
           21
          ],
          [
           22
          ],
          [
           23
          ],
          [
           24
          ],
          [
           25
          ],
          [
           26
          ],
          [
           27
          ],
          [
           28
          ],
          [
           29
          ],
          [
           30
          ],
          [
           31
          ],
          [
           32
          ],
          [
           33
          ],
          [
           34
          ]
         ],
         "hovertemplate": "last_available_confirmed=%{x}<br>grocery_and_pharmacy_percent_change_from_baseline=%{y}<br>epidemiological_week=%{customdata[0]}<extra></extra>",
         "legendgroup": "",
         "marker": {
          "color": "#636efa",
          "symbol": "circle"
         },
         "mode": "markers",
         "name": "",
         "orientation": "h",
         "showlegend": false,
         "type": "scatter",
         "x": [
          65,
          396,
          1406,
          4466,
          8419,
          13894,
          20004,
          31174,
          44411,
          61183,
          80558,
          107142,
          140549,
          172875,
          215793,
          265581,
          312530,
          366890,
          412027,
          479481,
          552318,
          621731,
          697530,
          749244
         ],
         "xaxis": "x",
         "y": [
          6,
          15,
          12,
          11,
          -20,
          -10,
          16,
          -10,
          -9,
          4,
          10,
          -2,
          -3,
          2,
          9,
          13,
          4,
          0,
          13,
          11,
          7,
          8,
          15,
          24
         ],
         "yaxis": "y"
        }
       ],
       "layout": {
        "legend": {
         "tracegroupgap": 0
        },
        "template": {
         "data": {
          "bar": [
           {
            "error_x": {
             "color": "#2a3f5f"
            },
            "error_y": {
             "color": "#2a3f5f"
            },
            "marker": {
             "line": {
              "color": "#E5ECF6",
              "width": 0.5
             }
            },
            "type": "bar"
           }
          ],
          "barpolar": [
           {
            "marker": {
             "line": {
              "color": "#E5ECF6",
              "width": 0.5
             }
            },
            "type": "barpolar"
           }
          ],
          "carpet": [
           {
            "aaxis": {
             "endlinecolor": "#2a3f5f",
             "gridcolor": "white",
             "linecolor": "white",
             "minorgridcolor": "white",
             "startlinecolor": "#2a3f5f"
            },
            "baxis": {
             "endlinecolor": "#2a3f5f",
             "gridcolor": "white",
             "linecolor": "white",
             "minorgridcolor": "white",
             "startlinecolor": "#2a3f5f"
            },
            "type": "carpet"
           }
          ],
          "choropleth": [
           {
            "colorbar": {
             "outlinewidth": 0,
             "ticks": ""
            },
            "type": "choropleth"
           }
          ],
          "contour": [
           {
            "colorbar": {
             "outlinewidth": 0,
             "ticks": ""
            },
            "colorscale": [
             [
              0,
              "#0d0887"
             ],
             [
              0.1111111111111111,
              "#46039f"
             ],
             [
              0.2222222222222222,
              "#7201a8"
             ],
             [
              0.3333333333333333,
              "#9c179e"
             ],
             [
              0.4444444444444444,
              "#bd3786"
             ],
             [
              0.5555555555555556,
              "#d8576b"
             ],
             [
              0.6666666666666666,
              "#ed7953"
             ],
             [
              0.7777777777777778,
              "#fb9f3a"
             ],
             [
              0.8888888888888888,
              "#fdca26"
             ],
             [
              1,
              "#f0f921"
             ]
            ],
            "type": "contour"
           }
          ],
          "contourcarpet": [
           {
            "colorbar": {
             "outlinewidth": 0,
             "ticks": ""
            },
            "type": "contourcarpet"
           }
          ],
          "heatmap": [
           {
            "colorbar": {
             "outlinewidth": 0,
             "ticks": ""
            },
            "colorscale": [
             [
              0,
              "#0d0887"
             ],
             [
              0.1111111111111111,
              "#46039f"
             ],
             [
              0.2222222222222222,
              "#7201a8"
             ],
             [
              0.3333333333333333,
              "#9c179e"
             ],
             [
              0.4444444444444444,
              "#bd3786"
             ],
             [
              0.5555555555555556,
              "#d8576b"
             ],
             [
              0.6666666666666666,
              "#ed7953"
             ],
             [
              0.7777777777777778,
              "#fb9f3a"
             ],
             [
              0.8888888888888888,
              "#fdca26"
             ],
             [
              1,
              "#f0f921"
             ]
            ],
            "type": "heatmap"
           }
          ],
          "heatmapgl": [
           {
            "colorbar": {
             "outlinewidth": 0,
             "ticks": ""
            },
            "colorscale": [
             [
              0,
              "#0d0887"
             ],
             [
              0.1111111111111111,
              "#46039f"
             ],
             [
              0.2222222222222222,
              "#7201a8"
             ],
             [
              0.3333333333333333,
              "#9c179e"
             ],
             [
              0.4444444444444444,
              "#bd3786"
             ],
             [
              0.5555555555555556,
              "#d8576b"
             ],
             [
              0.6666666666666666,
              "#ed7953"
             ],
             [
              0.7777777777777778,
              "#fb9f3a"
             ],
             [
              0.8888888888888888,
              "#fdca26"
             ],
             [
              1,
              "#f0f921"
             ]
            ],
            "type": "heatmapgl"
           }
          ],
          "histogram": [
           {
            "marker": {
             "colorbar": {
              "outlinewidth": 0,
              "ticks": ""
             }
            },
            "type": "histogram"
           }
          ],
          "histogram2d": [
           {
            "colorbar": {
             "outlinewidth": 0,
             "ticks": ""
            },
            "colorscale": [
             [
              0,
              "#0d0887"
             ],
             [
              0.1111111111111111,
              "#46039f"
             ],
             [
              0.2222222222222222,
              "#7201a8"
             ],
             [
              0.3333333333333333,
              "#9c179e"
             ],
             [
              0.4444444444444444,
              "#bd3786"
             ],
             [
              0.5555555555555556,
              "#d8576b"
             ],
             [
              0.6666666666666666,
              "#ed7953"
             ],
             [
              0.7777777777777778,
              "#fb9f3a"
             ],
             [
              0.8888888888888888,
              "#fdca26"
             ],
             [
              1,
              "#f0f921"
             ]
            ],
            "type": "histogram2d"
           }
          ],
          "histogram2dcontour": [
           {
            "colorbar": {
             "outlinewidth": 0,
             "ticks": ""
            },
            "colorscale": [
             [
              0,
              "#0d0887"
             ],
             [
              0.1111111111111111,
              "#46039f"
             ],
             [
              0.2222222222222222,
              "#7201a8"
             ],
             [
              0.3333333333333333,
              "#9c179e"
             ],
             [
              0.4444444444444444,
              "#bd3786"
             ],
             [
              0.5555555555555556,
              "#d8576b"
             ],
             [
              0.6666666666666666,
              "#ed7953"
             ],
             [
              0.7777777777777778,
              "#fb9f3a"
             ],
             [
              0.8888888888888888,
              "#fdca26"
             ],
             [
              1,
              "#f0f921"
             ]
            ],
            "type": "histogram2dcontour"
           }
          ],
          "mesh3d": [
           {
            "colorbar": {
             "outlinewidth": 0,
             "ticks": ""
            },
            "type": "mesh3d"
           }
          ],
          "parcoords": [
           {
            "line": {
             "colorbar": {
              "outlinewidth": 0,
              "ticks": ""
             }
            },
            "type": "parcoords"
           }
          ],
          "pie": [
           {
            "automargin": true,
            "type": "pie"
           }
          ],
          "scatter": [
           {
            "marker": {
             "colorbar": {
              "outlinewidth": 0,
              "ticks": ""
             }
            },
            "type": "scatter"
           }
          ],
          "scatter3d": [
           {
            "line": {
             "colorbar": {
              "outlinewidth": 0,
              "ticks": ""
             }
            },
            "marker": {
             "colorbar": {
              "outlinewidth": 0,
              "ticks": ""
             }
            },
            "type": "scatter3d"
           }
          ],
          "scattercarpet": [
           {
            "marker": {
             "colorbar": {
              "outlinewidth": 0,
              "ticks": ""
             }
            },
            "type": "scattercarpet"
           }
          ],
          "scattergeo": [
           {
            "marker": {
             "colorbar": {
              "outlinewidth": 0,
              "ticks": ""
             }
            },
            "type": "scattergeo"
           }
          ],
          "scattergl": [
           {
            "marker": {
             "colorbar": {
              "outlinewidth": 0,
              "ticks": ""
             }
            },
            "type": "scattergl"
           }
          ],
          "scattermapbox": [
           {
            "marker": {
             "colorbar": {
              "outlinewidth": 0,
              "ticks": ""
             }
            },
            "type": "scattermapbox"
           }
          ],
          "scatterpolar": [
           {
            "marker": {
             "colorbar": {
              "outlinewidth": 0,
              "ticks": ""
             }
            },
            "type": "scatterpolar"
           }
          ],
          "scatterpolargl": [
           {
            "marker": {
             "colorbar": {
              "outlinewidth": 0,
              "ticks": ""
             }
            },
            "type": "scatterpolargl"
           }
          ],
          "scatterternary": [
           {
            "marker": {
             "colorbar": {
              "outlinewidth": 0,
              "ticks": ""
             }
            },
            "type": "scatterternary"
           }
          ],
          "surface": [
           {
            "colorbar": {
             "outlinewidth": 0,
             "ticks": ""
            },
            "colorscale": [
             [
              0,
              "#0d0887"
             ],
             [
              0.1111111111111111,
              "#46039f"
             ],
             [
              0.2222222222222222,
              "#7201a8"
             ],
             [
              0.3333333333333333,
              "#9c179e"
             ],
             [
              0.4444444444444444,
              "#bd3786"
             ],
             [
              0.5555555555555556,
              "#d8576b"
             ],
             [
              0.6666666666666666,
              "#ed7953"
             ],
             [
              0.7777777777777778,
              "#fb9f3a"
             ],
             [
              0.8888888888888888,
              "#fdca26"
             ],
             [
              1,
              "#f0f921"
             ]
            ],
            "type": "surface"
           }
          ],
          "table": [
           {
            "cells": {
             "fill": {
              "color": "#EBF0F8"
             },
             "line": {
              "color": "white"
             }
            },
            "header": {
             "fill": {
              "color": "#C8D4E3"
             },
             "line": {
              "color": "white"
             }
            },
            "type": "table"
           }
          ]
         },
         "layout": {
          "annotationdefaults": {
           "arrowcolor": "#2a3f5f",
           "arrowhead": 0,
           "arrowwidth": 1
          },
          "coloraxis": {
           "colorbar": {
            "outlinewidth": 0,
            "ticks": ""
           }
          },
          "colorscale": {
           "diverging": [
            [
             0,
             "#8e0152"
            ],
            [
             0.1,
             "#c51b7d"
            ],
            [
             0.2,
             "#de77ae"
            ],
            [
             0.3,
             "#f1b6da"
            ],
            [
             0.4,
             "#fde0ef"
            ],
            [
             0.5,
             "#f7f7f7"
            ],
            [
             0.6,
             "#e6f5d0"
            ],
            [
             0.7,
             "#b8e186"
            ],
            [
             0.8,
             "#7fbc41"
            ],
            [
             0.9,
             "#4d9221"
            ],
            [
             1,
             "#276419"
            ]
           ],
           "sequential": [
            [
             0,
             "#0d0887"
            ],
            [
             0.1111111111111111,
             "#46039f"
            ],
            [
             0.2222222222222222,
             "#7201a8"
            ],
            [
             0.3333333333333333,
             "#9c179e"
            ],
            [
             0.4444444444444444,
             "#bd3786"
            ],
            [
             0.5555555555555556,
             "#d8576b"
            ],
            [
             0.6666666666666666,
             "#ed7953"
            ],
            [
             0.7777777777777778,
             "#fb9f3a"
            ],
            [
             0.8888888888888888,
             "#fdca26"
            ],
            [
             1,
             "#f0f921"
            ]
           ],
           "sequentialminus": [
            [
             0,
             "#0d0887"
            ],
            [
             0.1111111111111111,
             "#46039f"
            ],
            [
             0.2222222222222222,
             "#7201a8"
            ],
            [
             0.3333333333333333,
             "#9c179e"
            ],
            [
             0.4444444444444444,
             "#bd3786"
            ],
            [
             0.5555555555555556,
             "#d8576b"
            ],
            [
             0.6666666666666666,
             "#ed7953"
            ],
            [
             0.7777777777777778,
             "#fb9f3a"
            ],
            [
             0.8888888888888888,
             "#fdca26"
            ],
            [
             1,
             "#f0f921"
            ]
           ]
          },
          "colorway": [
           "#636efa",
           "#EF553B",
           "#00cc96",
           "#ab63fa",
           "#FFA15A",
           "#19d3f3",
           "#FF6692",
           "#B6E880",
           "#FF97FF",
           "#FECB52"
          ],
          "font": {
           "color": "#2a3f5f"
          },
          "geo": {
           "bgcolor": "white",
           "lakecolor": "white",
           "landcolor": "#E5ECF6",
           "showlakes": true,
           "showland": true,
           "subunitcolor": "white"
          },
          "hoverlabel": {
           "align": "left"
          },
          "hovermode": "closest",
          "mapbox": {
           "style": "light"
          },
          "paper_bgcolor": "white",
          "plot_bgcolor": "#E5ECF6",
          "polar": {
           "angularaxis": {
            "gridcolor": "white",
            "linecolor": "white",
            "ticks": ""
           },
           "bgcolor": "#E5ECF6",
           "radialaxis": {
            "gridcolor": "white",
            "linecolor": "white",
            "ticks": ""
           }
          },
          "scene": {
           "xaxis": {
            "backgroundcolor": "#E5ECF6",
            "gridcolor": "white",
            "gridwidth": 2,
            "linecolor": "white",
            "showbackground": true,
            "ticks": "",
            "zerolinecolor": "white"
           },
           "yaxis": {
            "backgroundcolor": "#E5ECF6",
            "gridcolor": "white",
            "gridwidth": 2,
            "linecolor": "white",
            "showbackground": true,
            "ticks": "",
            "zerolinecolor": "white"
           },
           "zaxis": {
            "backgroundcolor": "#E5ECF6",
            "gridcolor": "white",
            "gridwidth": 2,
            "linecolor": "white",
            "showbackground": true,
            "ticks": "",
            "zerolinecolor": "white"
           }
          },
          "shapedefaults": {
           "line": {
            "color": "#2a3f5f"
           }
          },
          "ternary": {
           "aaxis": {
            "gridcolor": "white",
            "linecolor": "white",
            "ticks": ""
           },
           "baxis": {
            "gridcolor": "white",
            "linecolor": "white",
            "ticks": ""
           },
           "bgcolor": "#E5ECF6",
           "caxis": {
            "gridcolor": "white",
            "linecolor": "white",
            "ticks": ""
           }
          },
          "title": {
           "x": 0.05
          },
          "xaxis": {
           "automargin": true,
           "gridcolor": "white",
           "linecolor": "white",
           "ticks": "",
           "title": {
            "standoff": 15
           },
           "zerolinecolor": "white",
           "zerolinewidth": 2
          },
          "yaxis": {
           "automargin": true,
           "gridcolor": "white",
           "linecolor": "white",
           "ticks": "",
           "title": {
            "standoff": 15
           },
           "zerolinecolor": "white",
           "zerolinewidth": 2
          }
         }
        },
        "title": {
         "text": "grocery_and_pharmacy_percent_change_from_baseline x last_available_confirmed em SP"
        },
        "xaxis": {
         "anchor": "y",
         "domain": [
          0,
          1
         ],
         "title": {
          "text": "last_available_confirmed"
         }
        },
        "yaxis": {
         "anchor": "x",
         "domain": [
          0,
          1
         ],
         "title": {
          "text": "grocery_and_pharmacy_percent_change_from_baseline"
         }
        }
       }
      },
      "text/html": [
       "<div>\n",
       "        \n",
       "        \n",
       "            <div id=\"842e0a76-67c4-446f-a261-87a4584da2ec\" class=\"plotly-graph-div\" style=\"height:525px; width:100%;\"></div>\n",
       "            <script type=\"text/javascript\">\n",
       "                require([\"plotly\"], function(Plotly) {\n",
       "                    window.PLOTLYENV=window.PLOTLYENV || {};\n",
       "                    \n",
       "                if (document.getElementById(\"842e0a76-67c4-446f-a261-87a4584da2ec\")) {\n",
       "                    Plotly.newPlot(\n",
       "                        '842e0a76-67c4-446f-a261-87a4584da2ec',\n",
       "                        [{\"customdata\": [[11], [12], [13], [14], [15], [16], [17], [18], [19], [20], [21], [22], [23], [24], [25], [26], [27], [28], [29], [30], [31], [32], [33], [34]], \"hovertemplate\": \"last_available_confirmed=%{x}<br>grocery_and_pharmacy_percent_change_from_baseline=%{y}<br>epidemiological_week=%{customdata[0]}<extra></extra>\", \"legendgroup\": \"\", \"marker\": {\"color\": \"#636efa\", \"symbol\": \"circle\"}, \"mode\": \"markers\", \"name\": \"\", \"orientation\": \"h\", \"showlegend\": false, \"type\": \"scatter\", \"x\": [65, 396, 1406, 4466, 8419, 13894, 20004, 31174, 44411, 61183, 80558, 107142, 140549, 172875, 215793, 265581, 312530, 366890, 412027, 479481, 552318, 621731, 697530, 749244], \"xaxis\": \"x\", \"y\": [6.0, 15.0, 12.0, 11.0, -20.0, -10.0, 16.0, -10.0, -9.0, 4.0, 10.0, -2.0, -3.0, 2.0, 9.0, 13.0, 4.0, 0.0, 13.0, 11.0, 7.0, 8.0, 15.0, 24.0], \"yaxis\": \"y\"}],\n",
       "                        {\"legend\": {\"tracegroupgap\": 0}, \"template\": {\"data\": {\"bar\": [{\"error_x\": {\"color\": \"#2a3f5f\"}, \"error_y\": {\"color\": \"#2a3f5f\"}, \"marker\": {\"line\": {\"color\": \"#E5ECF6\", \"width\": 0.5}}, \"type\": \"bar\"}], \"barpolar\": [{\"marker\": {\"line\": {\"color\": \"#E5ECF6\", \"width\": 0.5}}, \"type\": \"barpolar\"}], \"carpet\": [{\"aaxis\": {\"endlinecolor\": \"#2a3f5f\", \"gridcolor\": \"white\", \"linecolor\": \"white\", \"minorgridcolor\": \"white\", \"startlinecolor\": \"#2a3f5f\"}, \"baxis\": {\"endlinecolor\": \"#2a3f5f\", \"gridcolor\": \"white\", \"linecolor\": \"white\", \"minorgridcolor\": \"white\", \"startlinecolor\": \"#2a3f5f\"}, \"type\": \"carpet\"}], \"choropleth\": [{\"colorbar\": {\"outlinewidth\": 0, \"ticks\": \"\"}, \"type\": \"choropleth\"}], \"contour\": [{\"colorbar\": {\"outlinewidth\": 0, \"ticks\": \"\"}, \"colorscale\": [[0.0, \"#0d0887\"], [0.1111111111111111, \"#46039f\"], [0.2222222222222222, \"#7201a8\"], [0.3333333333333333, \"#9c179e\"], [0.4444444444444444, \"#bd3786\"], [0.5555555555555556, \"#d8576b\"], [0.6666666666666666, \"#ed7953\"], [0.7777777777777778, \"#fb9f3a\"], [0.8888888888888888, \"#fdca26\"], [1.0, \"#f0f921\"]], \"type\": \"contour\"}], \"contourcarpet\": [{\"colorbar\": {\"outlinewidth\": 0, \"ticks\": \"\"}, \"type\": \"contourcarpet\"}], \"heatmap\": [{\"colorbar\": {\"outlinewidth\": 0, \"ticks\": \"\"}, \"colorscale\": [[0.0, \"#0d0887\"], [0.1111111111111111, \"#46039f\"], [0.2222222222222222, \"#7201a8\"], [0.3333333333333333, \"#9c179e\"], [0.4444444444444444, \"#bd3786\"], [0.5555555555555556, \"#d8576b\"], [0.6666666666666666, \"#ed7953\"], [0.7777777777777778, \"#fb9f3a\"], [0.8888888888888888, \"#fdca26\"], [1.0, \"#f0f921\"]], \"type\": \"heatmap\"}], \"heatmapgl\": [{\"colorbar\": {\"outlinewidth\": 0, \"ticks\": \"\"}, \"colorscale\": [[0.0, \"#0d0887\"], [0.1111111111111111, \"#46039f\"], [0.2222222222222222, \"#7201a8\"], [0.3333333333333333, \"#9c179e\"], [0.4444444444444444, \"#bd3786\"], [0.5555555555555556, \"#d8576b\"], [0.6666666666666666, \"#ed7953\"], [0.7777777777777778, \"#fb9f3a\"], [0.8888888888888888, \"#fdca26\"], [1.0, \"#f0f921\"]], \"type\": \"heatmapgl\"}], \"histogram\": [{\"marker\": {\"colorbar\": {\"outlinewidth\": 0, \"ticks\": \"\"}}, \"type\": \"histogram\"}], \"histogram2d\": [{\"colorbar\": {\"outlinewidth\": 0, \"ticks\": \"\"}, \"colorscale\": [[0.0, \"#0d0887\"], [0.1111111111111111, \"#46039f\"], [0.2222222222222222, \"#7201a8\"], [0.3333333333333333, \"#9c179e\"], [0.4444444444444444, \"#bd3786\"], [0.5555555555555556, \"#d8576b\"], [0.6666666666666666, \"#ed7953\"], [0.7777777777777778, \"#fb9f3a\"], [0.8888888888888888, \"#fdca26\"], [1.0, \"#f0f921\"]], \"type\": \"histogram2d\"}], \"histogram2dcontour\": [{\"colorbar\": {\"outlinewidth\": 0, \"ticks\": \"\"}, \"colorscale\": [[0.0, \"#0d0887\"], [0.1111111111111111, \"#46039f\"], [0.2222222222222222, \"#7201a8\"], [0.3333333333333333, \"#9c179e\"], [0.4444444444444444, \"#bd3786\"], [0.5555555555555556, \"#d8576b\"], [0.6666666666666666, \"#ed7953\"], [0.7777777777777778, \"#fb9f3a\"], [0.8888888888888888, \"#fdca26\"], [1.0, \"#f0f921\"]], \"type\": \"histogram2dcontour\"}], \"mesh3d\": [{\"colorbar\": {\"outlinewidth\": 0, \"ticks\": \"\"}, \"type\": \"mesh3d\"}], \"parcoords\": [{\"line\": {\"colorbar\": {\"outlinewidth\": 0, \"ticks\": \"\"}}, \"type\": \"parcoords\"}], \"pie\": [{\"automargin\": true, \"type\": \"pie\"}], \"scatter\": [{\"marker\": {\"colorbar\": {\"outlinewidth\": 0, \"ticks\": \"\"}}, \"type\": \"scatter\"}], \"scatter3d\": [{\"line\": {\"colorbar\": {\"outlinewidth\": 0, \"ticks\": \"\"}}, \"marker\": {\"colorbar\": {\"outlinewidth\": 0, \"ticks\": \"\"}}, \"type\": \"scatter3d\"}], \"scattercarpet\": [{\"marker\": {\"colorbar\": {\"outlinewidth\": 0, \"ticks\": \"\"}}, \"type\": \"scattercarpet\"}], \"scattergeo\": [{\"marker\": {\"colorbar\": {\"outlinewidth\": 0, \"ticks\": \"\"}}, \"type\": \"scattergeo\"}], \"scattergl\": [{\"marker\": {\"colorbar\": {\"outlinewidth\": 0, \"ticks\": \"\"}}, \"type\": \"scattergl\"}], \"scattermapbox\": [{\"marker\": {\"colorbar\": {\"outlinewidth\": 0, \"ticks\": \"\"}}, \"type\": \"scattermapbox\"}], \"scatterpolar\": [{\"marker\": {\"colorbar\": {\"outlinewidth\": 0, \"ticks\": \"\"}}, \"type\": \"scatterpolar\"}], \"scatterpolargl\": [{\"marker\": {\"colorbar\": {\"outlinewidth\": 0, \"ticks\": \"\"}}, \"type\": \"scatterpolargl\"}], \"scatterternary\": [{\"marker\": {\"colorbar\": {\"outlinewidth\": 0, \"ticks\": \"\"}}, \"type\": \"scatterternary\"}], \"surface\": [{\"colorbar\": {\"outlinewidth\": 0, \"ticks\": \"\"}, \"colorscale\": [[0.0, \"#0d0887\"], [0.1111111111111111, \"#46039f\"], [0.2222222222222222, \"#7201a8\"], [0.3333333333333333, \"#9c179e\"], [0.4444444444444444, \"#bd3786\"], [0.5555555555555556, \"#d8576b\"], [0.6666666666666666, \"#ed7953\"], [0.7777777777777778, \"#fb9f3a\"], [0.8888888888888888, \"#fdca26\"], [1.0, \"#f0f921\"]], \"type\": \"surface\"}], \"table\": [{\"cells\": {\"fill\": {\"color\": \"#EBF0F8\"}, \"line\": {\"color\": \"white\"}}, \"header\": {\"fill\": {\"color\": \"#C8D4E3\"}, \"line\": {\"color\": \"white\"}}, \"type\": \"table\"}]}, \"layout\": {\"annotationdefaults\": {\"arrowcolor\": \"#2a3f5f\", \"arrowhead\": 0, \"arrowwidth\": 1}, \"coloraxis\": {\"colorbar\": {\"outlinewidth\": 0, \"ticks\": \"\"}}, \"colorscale\": {\"diverging\": [[0, \"#8e0152\"], [0.1, \"#c51b7d\"], [0.2, \"#de77ae\"], [0.3, \"#f1b6da\"], [0.4, \"#fde0ef\"], [0.5, \"#f7f7f7\"], [0.6, \"#e6f5d0\"], [0.7, \"#b8e186\"], [0.8, \"#7fbc41\"], [0.9, \"#4d9221\"], [1, \"#276419\"]], \"sequential\": [[0.0, \"#0d0887\"], [0.1111111111111111, \"#46039f\"], [0.2222222222222222, \"#7201a8\"], [0.3333333333333333, \"#9c179e\"], [0.4444444444444444, \"#bd3786\"], [0.5555555555555556, \"#d8576b\"], [0.6666666666666666, \"#ed7953\"], [0.7777777777777778, \"#fb9f3a\"], [0.8888888888888888, \"#fdca26\"], [1.0, \"#f0f921\"]], \"sequentialminus\": [[0.0, \"#0d0887\"], [0.1111111111111111, \"#46039f\"], [0.2222222222222222, \"#7201a8\"], [0.3333333333333333, \"#9c179e\"], [0.4444444444444444, \"#bd3786\"], [0.5555555555555556, \"#d8576b\"], [0.6666666666666666, \"#ed7953\"], [0.7777777777777778, \"#fb9f3a\"], [0.8888888888888888, \"#fdca26\"], [1.0, \"#f0f921\"]]}, \"colorway\": [\"#636efa\", \"#EF553B\", \"#00cc96\", \"#ab63fa\", \"#FFA15A\", \"#19d3f3\", \"#FF6692\", \"#B6E880\", \"#FF97FF\", \"#FECB52\"], \"font\": {\"color\": \"#2a3f5f\"}, \"geo\": {\"bgcolor\": \"white\", \"lakecolor\": \"white\", \"landcolor\": \"#E5ECF6\", \"showlakes\": true, \"showland\": true, \"subunitcolor\": \"white\"}, \"hoverlabel\": {\"align\": \"left\"}, \"hovermode\": \"closest\", \"mapbox\": {\"style\": \"light\"}, \"paper_bgcolor\": \"white\", \"plot_bgcolor\": \"#E5ECF6\", \"polar\": {\"angularaxis\": {\"gridcolor\": \"white\", \"linecolor\": \"white\", \"ticks\": \"\"}, \"bgcolor\": \"#E5ECF6\", \"radialaxis\": {\"gridcolor\": \"white\", \"linecolor\": \"white\", \"ticks\": \"\"}}, \"scene\": {\"xaxis\": {\"backgroundcolor\": \"#E5ECF6\", \"gridcolor\": \"white\", \"gridwidth\": 2, \"linecolor\": \"white\", \"showbackground\": true, \"ticks\": \"\", \"zerolinecolor\": \"white\"}, \"yaxis\": {\"backgroundcolor\": \"#E5ECF6\", \"gridcolor\": \"white\", \"gridwidth\": 2, \"linecolor\": \"white\", \"showbackground\": true, \"ticks\": \"\", \"zerolinecolor\": \"white\"}, \"zaxis\": {\"backgroundcolor\": \"#E5ECF6\", \"gridcolor\": \"white\", \"gridwidth\": 2, \"linecolor\": \"white\", \"showbackground\": true, \"ticks\": \"\", \"zerolinecolor\": \"white\"}}, \"shapedefaults\": {\"line\": {\"color\": \"#2a3f5f\"}}, \"ternary\": {\"aaxis\": {\"gridcolor\": \"white\", \"linecolor\": \"white\", \"ticks\": \"\"}, \"baxis\": {\"gridcolor\": \"white\", \"linecolor\": \"white\", \"ticks\": \"\"}, \"bgcolor\": \"#E5ECF6\", \"caxis\": {\"gridcolor\": \"white\", \"linecolor\": \"white\", \"ticks\": \"\"}}, \"title\": {\"x\": 0.05}, \"xaxis\": {\"automargin\": true, \"gridcolor\": \"white\", \"linecolor\": \"white\", \"ticks\": \"\", \"title\": {\"standoff\": 15}, \"zerolinecolor\": \"white\", \"zerolinewidth\": 2}, \"yaxis\": {\"automargin\": true, \"gridcolor\": \"white\", \"linecolor\": \"white\", \"ticks\": \"\", \"title\": {\"standoff\": 15}, \"zerolinecolor\": \"white\", \"zerolinewidth\": 2}}}, \"title\": {\"text\": \"grocery_and_pharmacy_percent_change_from_baseline x last_available_confirmed em SP\"}, \"xaxis\": {\"anchor\": \"y\", \"domain\": [0.0, 1.0], \"title\": {\"text\": \"last_available_confirmed\"}}, \"yaxis\": {\"anchor\": \"x\", \"domain\": [0.0, 1.0], \"title\": {\"text\": \"grocery_and_pharmacy_percent_change_from_baseline\"}}},\n",
       "                        {\"responsive\": true}\n",
       "                    ).then(function(){\n",
       "                            \n",
       "var gd = document.getElementById('842e0a76-67c4-446f-a261-87a4584da2ec');\n",
       "var x = new MutationObserver(function (mutations, observer) {{\n",
       "        var display = window.getComputedStyle(gd).display;\n",
       "        if (!display || display === 'none') {{\n",
       "            console.log([gd, 'removed!']);\n",
       "            Plotly.purge(gd);\n",
       "            observer.disconnect();\n",
       "        }}\n",
       "}});\n",
       "\n",
       "// Listen for the removal of the full notebook cells\n",
       "var notebookContainer = gd.closest('#notebook-container');\n",
       "if (notebookContainer) {{\n",
       "    x.observe(notebookContainer, {childList: true});\n",
       "}}\n",
       "\n",
       "// Listen for the clearing of the current output cell\n",
       "var outputEl = gd.closest('.output');\n",
       "if (outputEl) {{\n",
       "    x.observe(outputEl, {childList: true});\n",
       "}}\n",
       "\n",
       "                        })\n",
       "                };\n",
       "                });\n",
       "            </script>\n",
       "        </div>"
      ]
     },
     "metadata": {},
     "output_type": "display_data"
    },
    {
     "data": {
      "application/vnd.plotly.v1+json": {
       "config": {
        "plotlyServerURL": "https://plot.ly"
       },
       "data": [
        {
         "mode": "lines+markers",
         "name": "last_available_confirmed",
         "type": "scatter",
         "x": [
          11,
          12,
          13,
          14,
          15,
          16,
          17,
          18,
          19,
          20,
          21,
          22,
          23,
          24,
          25,
          26,
          27,
          28,
          29,
          30,
          31,
          32,
          33,
          34
         ],
         "y": [
          65,
          396,
          1406,
          4466,
          8419,
          13894,
          20004,
          31174,
          44411,
          61183,
          80558,
          107142,
          140549,
          172875,
          215793,
          265581,
          312530,
          366890,
          412027,
          479481,
          552318,
          621731,
          697530,
          749244
         ],
         "yaxis": "y2"
        },
        {
         "mode": "lines+markers",
         "name": "grocery_and_pharmacy_percent_change_from_baseline",
         "type": "scatter",
         "x": [
          11,
          12,
          13,
          14,
          15,
          16,
          17,
          18,
          19,
          20,
          21,
          22,
          23,
          24,
          25,
          26,
          27,
          28,
          29,
          30,
          31,
          32,
          33,
          34
         ],
         "y": [
          6,
          15,
          12,
          11,
          -20,
          -10,
          16,
          -10,
          -9,
          4,
          10,
          -2,
          -3,
          2,
          9,
          13,
          4,
          0,
          13,
          11,
          7,
          8,
          15,
          24
         ],
         "yaxis": "y"
        }
       ],
       "layout": {
        "annotations": [
         {
          "font": {
           "color": "rgb(37,37,37)",
           "family": "Arial",
           "size": 18
          },
          "showarrow": false,
          "text": "grocery_and_pharmacy_percent_change_from_baseline x last_available_confirmed em SP",
          "x": 0,
          "xanchor": "left",
          "xref": "paper",
          "y": 1,
          "yanchor": "bottom",
          "yref": "paper"
         }
        ],
        "height": 350,
        "legend": {
         "orientation": "v",
         "x": 0.05,
         "xanchor": "left",
         "y": 0.8,
         "yanchor": "bottom"
        },
        "margin": {
         "b": 20,
         "l": 200,
         "r": 100,
         "t": 60
        },
        "paper_bgcolor": "rgba(0,0,0,0)",
        "plot_bgcolor": "rgba(0,0,0,0)",
        "template": {
         "data": {
          "bar": [
           {
            "error_x": {
             "color": "#2a3f5f"
            },
            "error_y": {
             "color": "#2a3f5f"
            },
            "marker": {
             "line": {
              "color": "#E5ECF6",
              "width": 0.5
             }
            },
            "type": "bar"
           }
          ],
          "barpolar": [
           {
            "marker": {
             "line": {
              "color": "#E5ECF6",
              "width": 0.5
             }
            },
            "type": "barpolar"
           }
          ],
          "carpet": [
           {
            "aaxis": {
             "endlinecolor": "#2a3f5f",
             "gridcolor": "white",
             "linecolor": "white",
             "minorgridcolor": "white",
             "startlinecolor": "#2a3f5f"
            },
            "baxis": {
             "endlinecolor": "#2a3f5f",
             "gridcolor": "white",
             "linecolor": "white",
             "minorgridcolor": "white",
             "startlinecolor": "#2a3f5f"
            },
            "type": "carpet"
           }
          ],
          "choropleth": [
           {
            "colorbar": {
             "outlinewidth": 0,
             "ticks": ""
            },
            "type": "choropleth"
           }
          ],
          "contour": [
           {
            "colorbar": {
             "outlinewidth": 0,
             "ticks": ""
            },
            "colorscale": [
             [
              0,
              "#0d0887"
             ],
             [
              0.1111111111111111,
              "#46039f"
             ],
             [
              0.2222222222222222,
              "#7201a8"
             ],
             [
              0.3333333333333333,
              "#9c179e"
             ],
             [
              0.4444444444444444,
              "#bd3786"
             ],
             [
              0.5555555555555556,
              "#d8576b"
             ],
             [
              0.6666666666666666,
              "#ed7953"
             ],
             [
              0.7777777777777778,
              "#fb9f3a"
             ],
             [
              0.8888888888888888,
              "#fdca26"
             ],
             [
              1,
              "#f0f921"
             ]
            ],
            "type": "contour"
           }
          ],
          "contourcarpet": [
           {
            "colorbar": {
             "outlinewidth": 0,
             "ticks": ""
            },
            "type": "contourcarpet"
           }
          ],
          "heatmap": [
           {
            "colorbar": {
             "outlinewidth": 0,
             "ticks": ""
            },
            "colorscale": [
             [
              0,
              "#0d0887"
             ],
             [
              0.1111111111111111,
              "#46039f"
             ],
             [
              0.2222222222222222,
              "#7201a8"
             ],
             [
              0.3333333333333333,
              "#9c179e"
             ],
             [
              0.4444444444444444,
              "#bd3786"
             ],
             [
              0.5555555555555556,
              "#d8576b"
             ],
             [
              0.6666666666666666,
              "#ed7953"
             ],
             [
              0.7777777777777778,
              "#fb9f3a"
             ],
             [
              0.8888888888888888,
              "#fdca26"
             ],
             [
              1,
              "#f0f921"
             ]
            ],
            "type": "heatmap"
           }
          ],
          "heatmapgl": [
           {
            "colorbar": {
             "outlinewidth": 0,
             "ticks": ""
            },
            "colorscale": [
             [
              0,
              "#0d0887"
             ],
             [
              0.1111111111111111,
              "#46039f"
             ],
             [
              0.2222222222222222,
              "#7201a8"
             ],
             [
              0.3333333333333333,
              "#9c179e"
             ],
             [
              0.4444444444444444,
              "#bd3786"
             ],
             [
              0.5555555555555556,
              "#d8576b"
             ],
             [
              0.6666666666666666,
              "#ed7953"
             ],
             [
              0.7777777777777778,
              "#fb9f3a"
             ],
             [
              0.8888888888888888,
              "#fdca26"
             ],
             [
              1,
              "#f0f921"
             ]
            ],
            "type": "heatmapgl"
           }
          ],
          "histogram": [
           {
            "marker": {
             "colorbar": {
              "outlinewidth": 0,
              "ticks": ""
             }
            },
            "type": "histogram"
           }
          ],
          "histogram2d": [
           {
            "colorbar": {
             "outlinewidth": 0,
             "ticks": ""
            },
            "colorscale": [
             [
              0,
              "#0d0887"
             ],
             [
              0.1111111111111111,
              "#46039f"
             ],
             [
              0.2222222222222222,
              "#7201a8"
             ],
             [
              0.3333333333333333,
              "#9c179e"
             ],
             [
              0.4444444444444444,
              "#bd3786"
             ],
             [
              0.5555555555555556,
              "#d8576b"
             ],
             [
              0.6666666666666666,
              "#ed7953"
             ],
             [
              0.7777777777777778,
              "#fb9f3a"
             ],
             [
              0.8888888888888888,
              "#fdca26"
             ],
             [
              1,
              "#f0f921"
             ]
            ],
            "type": "histogram2d"
           }
          ],
          "histogram2dcontour": [
           {
            "colorbar": {
             "outlinewidth": 0,
             "ticks": ""
            },
            "colorscale": [
             [
              0,
              "#0d0887"
             ],
             [
              0.1111111111111111,
              "#46039f"
             ],
             [
              0.2222222222222222,
              "#7201a8"
             ],
             [
              0.3333333333333333,
              "#9c179e"
             ],
             [
              0.4444444444444444,
              "#bd3786"
             ],
             [
              0.5555555555555556,
              "#d8576b"
             ],
             [
              0.6666666666666666,
              "#ed7953"
             ],
             [
              0.7777777777777778,
              "#fb9f3a"
             ],
             [
              0.8888888888888888,
              "#fdca26"
             ],
             [
              1,
              "#f0f921"
             ]
            ],
            "type": "histogram2dcontour"
           }
          ],
          "mesh3d": [
           {
            "colorbar": {
             "outlinewidth": 0,
             "ticks": ""
            },
            "type": "mesh3d"
           }
          ],
          "parcoords": [
           {
            "line": {
             "colorbar": {
              "outlinewidth": 0,
              "ticks": ""
             }
            },
            "type": "parcoords"
           }
          ],
          "pie": [
           {
            "automargin": true,
            "type": "pie"
           }
          ],
          "scatter": [
           {
            "marker": {
             "colorbar": {
              "outlinewidth": 0,
              "ticks": ""
             }
            },
            "type": "scatter"
           }
          ],
          "scatter3d": [
           {
            "line": {
             "colorbar": {
              "outlinewidth": 0,
              "ticks": ""
             }
            },
            "marker": {
             "colorbar": {
              "outlinewidth": 0,
              "ticks": ""
             }
            },
            "type": "scatter3d"
           }
          ],
          "scattercarpet": [
           {
            "marker": {
             "colorbar": {
              "outlinewidth": 0,
              "ticks": ""
             }
            },
            "type": "scattercarpet"
           }
          ],
          "scattergeo": [
           {
            "marker": {
             "colorbar": {
              "outlinewidth": 0,
              "ticks": ""
             }
            },
            "type": "scattergeo"
           }
          ],
          "scattergl": [
           {
            "marker": {
             "colorbar": {
              "outlinewidth": 0,
              "ticks": ""
             }
            },
            "type": "scattergl"
           }
          ],
          "scattermapbox": [
           {
            "marker": {
             "colorbar": {
              "outlinewidth": 0,
              "ticks": ""
             }
            },
            "type": "scattermapbox"
           }
          ],
          "scatterpolar": [
           {
            "marker": {
             "colorbar": {
              "outlinewidth": 0,
              "ticks": ""
             }
            },
            "type": "scatterpolar"
           }
          ],
          "scatterpolargl": [
           {
            "marker": {
             "colorbar": {
              "outlinewidth": 0,
              "ticks": ""
             }
            },
            "type": "scatterpolargl"
           }
          ],
          "scatterternary": [
           {
            "marker": {
             "colorbar": {
              "outlinewidth": 0,
              "ticks": ""
             }
            },
            "type": "scatterternary"
           }
          ],
          "surface": [
           {
            "colorbar": {
             "outlinewidth": 0,
             "ticks": ""
            },
            "colorscale": [
             [
              0,
              "#0d0887"
             ],
             [
              0.1111111111111111,
              "#46039f"
             ],
             [
              0.2222222222222222,
              "#7201a8"
             ],
             [
              0.3333333333333333,
              "#9c179e"
             ],
             [
              0.4444444444444444,
              "#bd3786"
             ],
             [
              0.5555555555555556,
              "#d8576b"
             ],
             [
              0.6666666666666666,
              "#ed7953"
             ],
             [
              0.7777777777777778,
              "#fb9f3a"
             ],
             [
              0.8888888888888888,
              "#fdca26"
             ],
             [
              1,
              "#f0f921"
             ]
            ],
            "type": "surface"
           }
          ],
          "table": [
           {
            "cells": {
             "fill": {
              "color": "#EBF0F8"
             },
             "line": {
              "color": "white"
             }
            },
            "header": {
             "fill": {
              "color": "#C8D4E3"
             },
             "line": {
              "color": "white"
             }
            },
            "type": "table"
           }
          ]
         },
         "layout": {
          "annotationdefaults": {
           "arrowcolor": "#2a3f5f",
           "arrowhead": 0,
           "arrowwidth": 1
          },
          "coloraxis": {
           "colorbar": {
            "outlinewidth": 0,
            "ticks": ""
           }
          },
          "colorscale": {
           "diverging": [
            [
             0,
             "#8e0152"
            ],
            [
             0.1,
             "#c51b7d"
            ],
            [
             0.2,
             "#de77ae"
            ],
            [
             0.3,
             "#f1b6da"
            ],
            [
             0.4,
             "#fde0ef"
            ],
            [
             0.5,
             "#f7f7f7"
            ],
            [
             0.6,
             "#e6f5d0"
            ],
            [
             0.7,
             "#b8e186"
            ],
            [
             0.8,
             "#7fbc41"
            ],
            [
             0.9,
             "#4d9221"
            ],
            [
             1,
             "#276419"
            ]
           ],
           "sequential": [
            [
             0,
             "#0d0887"
            ],
            [
             0.1111111111111111,
             "#46039f"
            ],
            [
             0.2222222222222222,
             "#7201a8"
            ],
            [
             0.3333333333333333,
             "#9c179e"
            ],
            [
             0.4444444444444444,
             "#bd3786"
            ],
            [
             0.5555555555555556,
             "#d8576b"
            ],
            [
             0.6666666666666666,
             "#ed7953"
            ],
            [
             0.7777777777777778,
             "#fb9f3a"
            ],
            [
             0.8888888888888888,
             "#fdca26"
            ],
            [
             1,
             "#f0f921"
            ]
           ],
           "sequentialminus": [
            [
             0,
             "#0d0887"
            ],
            [
             0.1111111111111111,
             "#46039f"
            ],
            [
             0.2222222222222222,
             "#7201a8"
            ],
            [
             0.3333333333333333,
             "#9c179e"
            ],
            [
             0.4444444444444444,
             "#bd3786"
            ],
            [
             0.5555555555555556,
             "#d8576b"
            ],
            [
             0.6666666666666666,
             "#ed7953"
            ],
            [
             0.7777777777777778,
             "#fb9f3a"
            ],
            [
             0.8888888888888888,
             "#fdca26"
            ],
            [
             1,
             "#f0f921"
            ]
           ]
          },
          "colorway": [
           "#636efa",
           "#EF553B",
           "#00cc96",
           "#ab63fa",
           "#FFA15A",
           "#19d3f3",
           "#FF6692",
           "#B6E880",
           "#FF97FF",
           "#FECB52"
          ],
          "font": {
           "color": "#2a3f5f"
          },
          "geo": {
           "bgcolor": "white",
           "lakecolor": "white",
           "landcolor": "#E5ECF6",
           "showlakes": true,
           "showland": true,
           "subunitcolor": "white"
          },
          "hoverlabel": {
           "align": "left"
          },
          "hovermode": "closest",
          "mapbox": {
           "style": "light"
          },
          "paper_bgcolor": "white",
          "plot_bgcolor": "#E5ECF6",
          "polar": {
           "angularaxis": {
            "gridcolor": "white",
            "linecolor": "white",
            "ticks": ""
           },
           "bgcolor": "#E5ECF6",
           "radialaxis": {
            "gridcolor": "white",
            "linecolor": "white",
            "ticks": ""
           }
          },
          "scene": {
           "xaxis": {
            "backgroundcolor": "#E5ECF6",
            "gridcolor": "white",
            "gridwidth": 2,
            "linecolor": "white",
            "showbackground": true,
            "ticks": "",
            "zerolinecolor": "white"
           },
           "yaxis": {
            "backgroundcolor": "#E5ECF6",
            "gridcolor": "white",
            "gridwidth": 2,
            "linecolor": "white",
            "showbackground": true,
            "ticks": "",
            "zerolinecolor": "white"
           },
           "zaxis": {
            "backgroundcolor": "#E5ECF6",
            "gridcolor": "white",
            "gridwidth": 2,
            "linecolor": "white",
            "showbackground": true,
            "ticks": "",
            "zerolinecolor": "white"
           }
          },
          "shapedefaults": {
           "line": {
            "color": "#2a3f5f"
           }
          },
          "ternary": {
           "aaxis": {
            "gridcolor": "white",
            "linecolor": "white",
            "ticks": ""
           },
           "baxis": {
            "gridcolor": "white",
            "linecolor": "white",
            "ticks": ""
           },
           "bgcolor": "#E5ECF6",
           "caxis": {
            "gridcolor": "white",
            "linecolor": "white",
            "ticks": ""
           }
          },
          "title": {
           "x": 0.05
          },
          "xaxis": {
           "automargin": true,
           "gridcolor": "white",
           "linecolor": "white",
           "ticks": "",
           "title": {
            "standoff": 15
           },
           "zerolinecolor": "white",
           "zerolinewidth": 2
          },
          "yaxis": {
           "automargin": true,
           "gridcolor": "white",
           "linecolor": "white",
           "ticks": "",
           "title": {
            "standoff": 15
           },
           "zerolinecolor": "white",
           "zerolinewidth": 2
          }
         }
        },
        "title": {
         "font": {
          "size": 20
         }
        },
        "width": 1200,
        "xaxis": {
         "linecolor": "rgb(204, 204, 204)",
         "linewidth": 2,
         "showgrid": false,
         "showline": false,
         "showticklabels": true,
         "tickfont": {
          "color": "rgb(82, 82, 82)",
          "family": "Arial",
          "size": 12
         },
         "ticks": "outside"
        },
        "yaxis": {
         "linecolor": "rgb(204, 204, 204)",
         "linewidth": 2,
         "showgrid": false,
         "showline": false,
         "showticklabels": true,
         "tickfont": {
          "color": "rgb(82, 82, 82)",
          "family": "Arial",
          "size": 12
         },
         "ticks": "outside"
        },
        "yaxis2": {
         "linecolor": "rgb(204, 204, 204)",
         "linewidth": 2,
         "showgrid": false,
         "showline": false,
         "showticklabels": true,
         "side": "right",
         "tickfont": {
          "color": "rgb(82, 82, 82)",
          "family": "Arial",
          "size": 12
         },
         "ticks": "inside"
        }
       }
      },
      "text/html": [
       "<div>\n",
       "        \n",
       "        \n",
       "            <div id=\"5012f614-ac40-4336-b16b-480fb4f80da6\" class=\"plotly-graph-div\" style=\"height:350px; width:1200px;\"></div>\n",
       "            <script type=\"text/javascript\">\n",
       "                require([\"plotly\"], function(Plotly) {\n",
       "                    window.PLOTLYENV=window.PLOTLYENV || {};\n",
       "                    \n",
       "                if (document.getElementById(\"5012f614-ac40-4336-b16b-480fb4f80da6\")) {\n",
       "                    Plotly.newPlot(\n",
       "                        '5012f614-ac40-4336-b16b-480fb4f80da6',\n",
       "                        [{\"mode\": \"lines+markers\", \"name\": \"last_available_confirmed\", \"type\": \"scatter\", \"x\": [11, 12, 13, 14, 15, 16, 17, 18, 19, 20, 21, 22, 23, 24, 25, 26, 27, 28, 29, 30, 31, 32, 33, 34], \"y\": [65, 396, 1406, 4466, 8419, 13894, 20004, 31174, 44411, 61183, 80558, 107142, 140549, 172875, 215793, 265581, 312530, 366890, 412027, 479481, 552318, 621731, 697530, 749244], \"yaxis\": \"y2\"}, {\"mode\": \"lines+markers\", \"name\": \"grocery_and_pharmacy_percent_change_from_baseline\", \"type\": \"scatter\", \"x\": [11, 12, 13, 14, 15, 16, 17, 18, 19, 20, 21, 22, 23, 24, 25, 26, 27, 28, 29, 30, 31, 32, 33, 34], \"y\": [6.0, 15.0, 12.0, 11.0, -20.0, -10.0, 16.0, -10.0, -9.0, 4.0, 10.0, -2.0, -3.0, 2.0, 9.0, 13.0, 4.0, 0.0, 13.0, 11.0, 7.0, 8.0, 15.0, 24.0], \"yaxis\": \"y\"}],\n",
       "                        {\"annotations\": [{\"font\": {\"color\": \"rgb(37,37,37)\", \"family\": \"Arial\", \"size\": 18}, \"showarrow\": false, \"text\": \"grocery_and_pharmacy_percent_change_from_baseline x last_available_confirmed em SP\", \"x\": 0, \"xanchor\": \"left\", \"xref\": \"paper\", \"y\": 1, \"yanchor\": \"bottom\", \"yref\": \"paper\"}], \"height\": 350, \"legend\": {\"orientation\": \"v\", \"x\": 0.05, \"xanchor\": \"left\", \"y\": 0.8, \"yanchor\": \"bottom\"}, \"margin\": {\"b\": 20, \"l\": 200, \"r\": 100, \"t\": 60}, \"paper_bgcolor\": \"rgba(0,0,0,0)\", \"plot_bgcolor\": \"rgba(0,0,0,0)\", \"template\": {\"data\": {\"bar\": [{\"error_x\": {\"color\": \"#2a3f5f\"}, \"error_y\": {\"color\": \"#2a3f5f\"}, \"marker\": {\"line\": {\"color\": \"#E5ECF6\", \"width\": 0.5}}, \"type\": \"bar\"}], \"barpolar\": [{\"marker\": {\"line\": {\"color\": \"#E5ECF6\", \"width\": 0.5}}, \"type\": \"barpolar\"}], \"carpet\": [{\"aaxis\": {\"endlinecolor\": \"#2a3f5f\", \"gridcolor\": \"white\", \"linecolor\": \"white\", \"minorgridcolor\": \"white\", \"startlinecolor\": \"#2a3f5f\"}, \"baxis\": {\"endlinecolor\": \"#2a3f5f\", \"gridcolor\": \"white\", \"linecolor\": \"white\", \"minorgridcolor\": \"white\", \"startlinecolor\": \"#2a3f5f\"}, \"type\": \"carpet\"}], \"choropleth\": [{\"colorbar\": {\"outlinewidth\": 0, \"ticks\": \"\"}, \"type\": \"choropleth\"}], \"contour\": [{\"colorbar\": {\"outlinewidth\": 0, \"ticks\": \"\"}, \"colorscale\": [[0.0, \"#0d0887\"], [0.1111111111111111, \"#46039f\"], [0.2222222222222222, \"#7201a8\"], [0.3333333333333333, \"#9c179e\"], [0.4444444444444444, \"#bd3786\"], [0.5555555555555556, \"#d8576b\"], [0.6666666666666666, \"#ed7953\"], [0.7777777777777778, \"#fb9f3a\"], [0.8888888888888888, \"#fdca26\"], [1.0, \"#f0f921\"]], \"type\": \"contour\"}], \"contourcarpet\": [{\"colorbar\": {\"outlinewidth\": 0, \"ticks\": \"\"}, \"type\": \"contourcarpet\"}], \"heatmap\": [{\"colorbar\": {\"outlinewidth\": 0, \"ticks\": \"\"}, \"colorscale\": [[0.0, \"#0d0887\"], [0.1111111111111111, \"#46039f\"], [0.2222222222222222, \"#7201a8\"], [0.3333333333333333, \"#9c179e\"], [0.4444444444444444, \"#bd3786\"], [0.5555555555555556, \"#d8576b\"], [0.6666666666666666, \"#ed7953\"], [0.7777777777777778, \"#fb9f3a\"], [0.8888888888888888, \"#fdca26\"], [1.0, \"#f0f921\"]], \"type\": \"heatmap\"}], \"heatmapgl\": [{\"colorbar\": {\"outlinewidth\": 0, \"ticks\": \"\"}, \"colorscale\": [[0.0, \"#0d0887\"], [0.1111111111111111, \"#46039f\"], [0.2222222222222222, \"#7201a8\"], [0.3333333333333333, \"#9c179e\"], [0.4444444444444444, \"#bd3786\"], [0.5555555555555556, \"#d8576b\"], [0.6666666666666666, \"#ed7953\"], [0.7777777777777778, \"#fb9f3a\"], [0.8888888888888888, \"#fdca26\"], [1.0, \"#f0f921\"]], \"type\": \"heatmapgl\"}], \"histogram\": [{\"marker\": {\"colorbar\": {\"outlinewidth\": 0, \"ticks\": \"\"}}, \"type\": \"histogram\"}], \"histogram2d\": [{\"colorbar\": {\"outlinewidth\": 0, \"ticks\": \"\"}, \"colorscale\": [[0.0, \"#0d0887\"], [0.1111111111111111, \"#46039f\"], [0.2222222222222222, \"#7201a8\"], [0.3333333333333333, \"#9c179e\"], [0.4444444444444444, \"#bd3786\"], [0.5555555555555556, \"#d8576b\"], [0.6666666666666666, \"#ed7953\"], [0.7777777777777778, \"#fb9f3a\"], [0.8888888888888888, \"#fdca26\"], [1.0, \"#f0f921\"]], \"type\": \"histogram2d\"}], \"histogram2dcontour\": [{\"colorbar\": {\"outlinewidth\": 0, \"ticks\": \"\"}, \"colorscale\": [[0.0, \"#0d0887\"], [0.1111111111111111, \"#46039f\"], [0.2222222222222222, \"#7201a8\"], [0.3333333333333333, \"#9c179e\"], [0.4444444444444444, \"#bd3786\"], [0.5555555555555556, \"#d8576b\"], [0.6666666666666666, \"#ed7953\"], [0.7777777777777778, \"#fb9f3a\"], [0.8888888888888888, \"#fdca26\"], [1.0, \"#f0f921\"]], \"type\": \"histogram2dcontour\"}], \"mesh3d\": [{\"colorbar\": {\"outlinewidth\": 0, \"ticks\": \"\"}, \"type\": \"mesh3d\"}], \"parcoords\": [{\"line\": {\"colorbar\": {\"outlinewidth\": 0, \"ticks\": \"\"}}, \"type\": \"parcoords\"}], \"pie\": [{\"automargin\": true, \"type\": \"pie\"}], \"scatter\": [{\"marker\": {\"colorbar\": {\"outlinewidth\": 0, \"ticks\": \"\"}}, \"type\": \"scatter\"}], \"scatter3d\": [{\"line\": {\"colorbar\": {\"outlinewidth\": 0, \"ticks\": \"\"}}, \"marker\": {\"colorbar\": {\"outlinewidth\": 0, \"ticks\": \"\"}}, \"type\": \"scatter3d\"}], \"scattercarpet\": [{\"marker\": {\"colorbar\": {\"outlinewidth\": 0, \"ticks\": \"\"}}, \"type\": \"scattercarpet\"}], \"scattergeo\": [{\"marker\": {\"colorbar\": {\"outlinewidth\": 0, \"ticks\": \"\"}}, \"type\": \"scattergeo\"}], \"scattergl\": [{\"marker\": {\"colorbar\": {\"outlinewidth\": 0, \"ticks\": \"\"}}, \"type\": \"scattergl\"}], \"scattermapbox\": [{\"marker\": {\"colorbar\": {\"outlinewidth\": 0, \"ticks\": \"\"}}, \"type\": \"scattermapbox\"}], \"scatterpolar\": [{\"marker\": {\"colorbar\": {\"outlinewidth\": 0, \"ticks\": \"\"}}, \"type\": \"scatterpolar\"}], \"scatterpolargl\": [{\"marker\": {\"colorbar\": {\"outlinewidth\": 0, \"ticks\": \"\"}}, \"type\": \"scatterpolargl\"}], \"scatterternary\": [{\"marker\": {\"colorbar\": {\"outlinewidth\": 0, \"ticks\": \"\"}}, \"type\": \"scatterternary\"}], \"surface\": [{\"colorbar\": {\"outlinewidth\": 0, \"ticks\": \"\"}, \"colorscale\": [[0.0, \"#0d0887\"], [0.1111111111111111, \"#46039f\"], [0.2222222222222222, \"#7201a8\"], [0.3333333333333333, \"#9c179e\"], [0.4444444444444444, \"#bd3786\"], [0.5555555555555556, \"#d8576b\"], [0.6666666666666666, \"#ed7953\"], [0.7777777777777778, \"#fb9f3a\"], [0.8888888888888888, \"#fdca26\"], [1.0, \"#f0f921\"]], \"type\": \"surface\"}], \"table\": [{\"cells\": {\"fill\": {\"color\": \"#EBF0F8\"}, \"line\": {\"color\": \"white\"}}, \"header\": {\"fill\": {\"color\": \"#C8D4E3\"}, \"line\": {\"color\": \"white\"}}, \"type\": \"table\"}]}, \"layout\": {\"annotationdefaults\": {\"arrowcolor\": \"#2a3f5f\", \"arrowhead\": 0, \"arrowwidth\": 1}, \"coloraxis\": {\"colorbar\": {\"outlinewidth\": 0, \"ticks\": \"\"}}, \"colorscale\": {\"diverging\": [[0, \"#8e0152\"], [0.1, \"#c51b7d\"], [0.2, \"#de77ae\"], [0.3, \"#f1b6da\"], [0.4, \"#fde0ef\"], [0.5, \"#f7f7f7\"], [0.6, \"#e6f5d0\"], [0.7, \"#b8e186\"], [0.8, \"#7fbc41\"], [0.9, \"#4d9221\"], [1, \"#276419\"]], \"sequential\": [[0.0, \"#0d0887\"], [0.1111111111111111, \"#46039f\"], [0.2222222222222222, \"#7201a8\"], [0.3333333333333333, \"#9c179e\"], [0.4444444444444444, \"#bd3786\"], [0.5555555555555556, \"#d8576b\"], [0.6666666666666666, \"#ed7953\"], [0.7777777777777778, \"#fb9f3a\"], [0.8888888888888888, \"#fdca26\"], [1.0, \"#f0f921\"]], \"sequentialminus\": [[0.0, \"#0d0887\"], [0.1111111111111111, \"#46039f\"], [0.2222222222222222, \"#7201a8\"], [0.3333333333333333, \"#9c179e\"], [0.4444444444444444, \"#bd3786\"], [0.5555555555555556, \"#d8576b\"], [0.6666666666666666, \"#ed7953\"], [0.7777777777777778, \"#fb9f3a\"], [0.8888888888888888, \"#fdca26\"], [1.0, \"#f0f921\"]]}, \"colorway\": [\"#636efa\", \"#EF553B\", \"#00cc96\", \"#ab63fa\", \"#FFA15A\", \"#19d3f3\", \"#FF6692\", \"#B6E880\", \"#FF97FF\", \"#FECB52\"], \"font\": {\"color\": \"#2a3f5f\"}, \"geo\": {\"bgcolor\": \"white\", \"lakecolor\": \"white\", \"landcolor\": \"#E5ECF6\", \"showlakes\": true, \"showland\": true, \"subunitcolor\": \"white\"}, \"hoverlabel\": {\"align\": \"left\"}, \"hovermode\": \"closest\", \"mapbox\": {\"style\": \"light\"}, \"paper_bgcolor\": \"white\", \"plot_bgcolor\": \"#E5ECF6\", \"polar\": {\"angularaxis\": {\"gridcolor\": \"white\", \"linecolor\": \"white\", \"ticks\": \"\"}, \"bgcolor\": \"#E5ECF6\", \"radialaxis\": {\"gridcolor\": \"white\", \"linecolor\": \"white\", \"ticks\": \"\"}}, \"scene\": {\"xaxis\": {\"backgroundcolor\": \"#E5ECF6\", \"gridcolor\": \"white\", \"gridwidth\": 2, \"linecolor\": \"white\", \"showbackground\": true, \"ticks\": \"\", \"zerolinecolor\": \"white\"}, \"yaxis\": {\"backgroundcolor\": \"#E5ECF6\", \"gridcolor\": \"white\", \"gridwidth\": 2, \"linecolor\": \"white\", \"showbackground\": true, \"ticks\": \"\", \"zerolinecolor\": \"white\"}, \"zaxis\": {\"backgroundcolor\": \"#E5ECF6\", \"gridcolor\": \"white\", \"gridwidth\": 2, \"linecolor\": \"white\", \"showbackground\": true, \"ticks\": \"\", \"zerolinecolor\": \"white\"}}, \"shapedefaults\": {\"line\": {\"color\": \"#2a3f5f\"}}, \"ternary\": {\"aaxis\": {\"gridcolor\": \"white\", \"linecolor\": \"white\", \"ticks\": \"\"}, \"baxis\": {\"gridcolor\": \"white\", \"linecolor\": \"white\", \"ticks\": \"\"}, \"bgcolor\": \"#E5ECF6\", \"caxis\": {\"gridcolor\": \"white\", \"linecolor\": \"white\", \"ticks\": \"\"}}, \"title\": {\"x\": 0.05}, \"xaxis\": {\"automargin\": true, \"gridcolor\": \"white\", \"linecolor\": \"white\", \"ticks\": \"\", \"title\": {\"standoff\": 15}, \"zerolinecolor\": \"white\", \"zerolinewidth\": 2}, \"yaxis\": {\"automargin\": true, \"gridcolor\": \"white\", \"linecolor\": \"white\", \"ticks\": \"\", \"title\": {\"standoff\": 15}, \"zerolinecolor\": \"white\", \"zerolinewidth\": 2}}}, \"title\": {\"font\": {\"size\": 20}}, \"width\": 1200, \"xaxis\": {\"linecolor\": \"rgb(204, 204, 204)\", \"linewidth\": 2, \"showgrid\": false, \"showline\": false, \"showticklabels\": true, \"tickfont\": {\"color\": \"rgb(82, 82, 82)\", \"family\": \"Arial\", \"size\": 12}, \"ticks\": \"outside\"}, \"yaxis\": {\"linecolor\": \"rgb(204, 204, 204)\", \"linewidth\": 2, \"showgrid\": false, \"showline\": false, \"showticklabels\": true, \"tickfont\": {\"color\": \"rgb(82, 82, 82)\", \"family\": \"Arial\", \"size\": 12}, \"ticks\": \"outside\"}, \"yaxis2\": {\"linecolor\": \"rgb(204, 204, 204)\", \"linewidth\": 2, \"showgrid\": false, \"showline\": false, \"showticklabels\": true, \"side\": \"right\", \"tickfont\": {\"color\": \"rgb(82, 82, 82)\", \"family\": \"Arial\", \"size\": 12}, \"ticks\": \"inside\"}},\n",
       "                        {\"responsive\": true}\n",
       "                    ).then(function(){\n",
       "                            \n",
       "var gd = document.getElementById('5012f614-ac40-4336-b16b-480fb4f80da6');\n",
       "var x = new MutationObserver(function (mutations, observer) {{\n",
       "        var display = window.getComputedStyle(gd).display;\n",
       "        if (!display || display === 'none') {{\n",
       "            console.log([gd, 'removed!']);\n",
       "            Plotly.purge(gd);\n",
       "            observer.disconnect();\n",
       "        }}\n",
       "}});\n",
       "\n",
       "// Listen for the removal of the full notebook cells\n",
       "var notebookContainer = gd.closest('#notebook-container');\n",
       "if (notebookContainer) {{\n",
       "    x.observe(notebookContainer, {childList: true});\n",
       "}}\n",
       "\n",
       "// Listen for the clearing of the current output cell\n",
       "var outputEl = gd.closest('.output');\n",
       "if (outputEl) {{\n",
       "    x.observe(outputEl, {childList: true});\n",
       "}}\n",
       "\n",
       "                        })\n",
       "                };\n",
       "                });\n",
       "            </script>\n",
       "        </div>"
      ]
     },
     "metadata": {},
     "output_type": "display_data"
    },
    {
     "data": {
      "text/plain": [
       "0.46325638313636086"
      ]
     },
     "execution_count": 73,
     "metadata": {},
     "output_type": "execute_result"
    }
   ],
   "source": [
    "plotRelacao(\"SP\",\"grocery_and_pharmacy_percent_change_from_baseline\",'last_available_confirmed',2,False,True)"
   ]
  },
  {
   "cell_type": "markdown",
   "metadata": {},
   "source": [
    "## Tornar a matriz em um dataframe"
   ]
  },
  {
   "cell_type": "code",
   "execution_count": 69,
   "metadata": {},
   "outputs": [
    {
     "data": {
      "text/html": [
       "<div>\n",
       "<style scoped>\n",
       "    .dataframe tbody tr th:only-of-type {\n",
       "        vertical-align: middle;\n",
       "    }\n",
       "\n",
       "    .dataframe tbody tr th {\n",
       "        vertical-align: top;\n",
       "    }\n",
       "\n",
       "    .dataframe thead th {\n",
       "        text-align: right;\n",
       "    }\n",
       "</style>\n",
       "<table border=\"1\" class=\"dataframe\">\n",
       "  <thead>\n",
       "    <tr style=\"text-align: right;\">\n",
       "      <th></th>\n",
       "      <th>last_available_confirmed</th>\n",
       "      <th>last_available_deaths</th>\n",
       "      <th>new_week_cases</th>\n",
       "      <th>new_week_deaths</th>\n",
       "      <th>prevalence</th>\n",
       "      <th>mortality</th>\n",
       "      <th>lethality</th>\n",
       "      <th>incidence_cases</th>\n",
       "      <th>incidence_deaths</th>\n",
       "      <th>cases_growth_factor</th>\n",
       "      <th>deaths_growth_factor</th>\n",
       "    </tr>\n",
       "  </thead>\n",
       "  <tbody>\n",
       "    <tr>\n",
       "      <th>retail_and_recreation_percent_change_from_baseline</th>\n",
       "      <td>0.012652</td>\n",
       "      <td>-0.039852</td>\n",
       "      <td>-0.072666</td>\n",
       "      <td>-0.306439</td>\n",
       "      <td>0.012652</td>\n",
       "      <td>-0.039852</td>\n",
       "      <td>-0.914360</td>\n",
       "      <td>-0.072666</td>\n",
       "      <td>-0.306439</td>\n",
       "      <td>0.487443</td>\n",
       "      <td>-0.703580</td>\n",
       "    </tr>\n",
       "    <tr>\n",
       "      <th>grocery_and_pharmacy_percent_change_from_baseline</th>\n",
       "      <td>0.331041</td>\n",
       "      <td>0.345555</td>\n",
       "      <td>0.398061</td>\n",
       "      <td>0.271040</td>\n",
       "      <td>0.331041</td>\n",
       "      <td>0.345555</td>\n",
       "      <td>-0.398917</td>\n",
       "      <td>0.398061</td>\n",
       "      <td>0.271040</td>\n",
       "      <td>0.036716</td>\n",
       "      <td>-0.643666</td>\n",
       "    </tr>\n",
       "    <tr>\n",
       "      <th>parks_percent_change_from_baseline</th>\n",
       "      <td>-0.010234</td>\n",
       "      <td>-0.045553</td>\n",
       "      <td>-0.036997</td>\n",
       "      <td>-0.239456</td>\n",
       "      <td>-0.010234</td>\n",
       "      <td>-0.045553</td>\n",
       "      <td>-0.804448</td>\n",
       "      <td>-0.036997</td>\n",
       "      <td>-0.239456</td>\n",
       "      <td>0.244887</td>\n",
       "      <td>-0.678449</td>\n",
       "    </tr>\n",
       "    <tr>\n",
       "      <th>transit_stations_percent_change_from_baseline</th>\n",
       "      <td>0.057803</td>\n",
       "      <td>0.013728</td>\n",
       "      <td>-0.009291</td>\n",
       "      <td>-0.236372</td>\n",
       "      <td>0.057803</td>\n",
       "      <td>0.013728</td>\n",
       "      <td>-0.902745</td>\n",
       "      <td>-0.009291</td>\n",
       "      <td>-0.236372</td>\n",
       "      <td>0.477896</td>\n",
       "      <td>-0.726101</td>\n",
       "    </tr>\n",
       "    <tr>\n",
       "      <th>workplaces_percent_change_from_baseline</th>\n",
       "      <td>0.362492</td>\n",
       "      <td>0.366007</td>\n",
       "      <td>0.346928</td>\n",
       "      <td>0.167489</td>\n",
       "      <td>0.362492</td>\n",
       "      <td>0.366007</td>\n",
       "      <td>-0.806468</td>\n",
       "      <td>0.346928</td>\n",
       "      <td>0.167489</td>\n",
       "      <td>0.201540</td>\n",
       "      <td>-0.766615</td>\n",
       "    </tr>\n",
       "    <tr>\n",
       "      <th>residential_percent_change_from_baseline</th>\n",
       "      <td>-0.382425</td>\n",
       "      <td>-0.364108</td>\n",
       "      <td>-0.298609</td>\n",
       "      <td>-0.073979</td>\n",
       "      <td>-0.382425</td>\n",
       "      <td>-0.364108</td>\n",
       "      <td>0.841605</td>\n",
       "      <td>-0.298609</td>\n",
       "      <td>-0.073979</td>\n",
       "      <td>-0.279997</td>\n",
       "      <td>0.595343</td>\n",
       "    </tr>\n",
       "  </tbody>\n",
       "</table>\n",
       "</div>"
      ],
      "text/plain": [
       "                                                    last_available_confirmed  \\\n",
       "retail_and_recreation_percent_change_from_baseline                  0.012652   \n",
       "grocery_and_pharmacy_percent_change_from_baseline                   0.331041   \n",
       "parks_percent_change_from_baseline                                 -0.010234   \n",
       "transit_stations_percent_change_from_baseline                       0.057803   \n",
       "workplaces_percent_change_from_baseline                             0.362492   \n",
       "residential_percent_change_from_baseline                           -0.382425   \n",
       "\n",
       "                                                    last_available_deaths  \\\n",
       "retail_and_recreation_percent_change_from_baseline              -0.039852   \n",
       "grocery_and_pharmacy_percent_change_from_baseline                0.345555   \n",
       "parks_percent_change_from_baseline                              -0.045553   \n",
       "transit_stations_percent_change_from_baseline                    0.013728   \n",
       "workplaces_percent_change_from_baseline                          0.366007   \n",
       "residential_percent_change_from_baseline                        -0.364108   \n",
       "\n",
       "                                                    new_week_cases  \\\n",
       "retail_and_recreation_percent_change_from_baseline       -0.072666   \n",
       "grocery_and_pharmacy_percent_change_from_baseline         0.398061   \n",
       "parks_percent_change_from_baseline                       -0.036997   \n",
       "transit_stations_percent_change_from_baseline            -0.009291   \n",
       "workplaces_percent_change_from_baseline                   0.346928   \n",
       "residential_percent_change_from_baseline                 -0.298609   \n",
       "\n",
       "                                                    new_week_deaths  \\\n",
       "retail_and_recreation_percent_change_from_baseline        -0.306439   \n",
       "grocery_and_pharmacy_percent_change_from_baseline          0.271040   \n",
       "parks_percent_change_from_baseline                        -0.239456   \n",
       "transit_stations_percent_change_from_baseline             -0.236372   \n",
       "workplaces_percent_change_from_baseline                    0.167489   \n",
       "residential_percent_change_from_baseline                  -0.073979   \n",
       "\n",
       "                                                    prevalence  mortality  \\\n",
       "retail_and_recreation_percent_change_from_baseline    0.012652  -0.039852   \n",
       "grocery_and_pharmacy_percent_change_from_baseline     0.331041   0.345555   \n",
       "parks_percent_change_from_baseline                   -0.010234  -0.045553   \n",
       "transit_stations_percent_change_from_baseline         0.057803   0.013728   \n",
       "workplaces_percent_change_from_baseline               0.362492   0.366007   \n",
       "residential_percent_change_from_baseline             -0.382425  -0.364108   \n",
       "\n",
       "                                                    lethality  \\\n",
       "retail_and_recreation_percent_change_from_baseline  -0.914360   \n",
       "grocery_and_pharmacy_percent_change_from_baseline   -0.398917   \n",
       "parks_percent_change_from_baseline                  -0.804448   \n",
       "transit_stations_percent_change_from_baseline       -0.902745   \n",
       "workplaces_percent_change_from_baseline             -0.806468   \n",
       "residential_percent_change_from_baseline             0.841605   \n",
       "\n",
       "                                                    incidence_cases  \\\n",
       "retail_and_recreation_percent_change_from_baseline        -0.072666   \n",
       "grocery_and_pharmacy_percent_change_from_baseline          0.398061   \n",
       "parks_percent_change_from_baseline                        -0.036997   \n",
       "transit_stations_percent_change_from_baseline             -0.009291   \n",
       "workplaces_percent_change_from_baseline                    0.346928   \n",
       "residential_percent_change_from_baseline                  -0.298609   \n",
       "\n",
       "                                                    incidence_deaths  \\\n",
       "retail_and_recreation_percent_change_from_baseline         -0.306439   \n",
       "grocery_and_pharmacy_percent_change_from_baseline           0.271040   \n",
       "parks_percent_change_from_baseline                         -0.239456   \n",
       "transit_stations_percent_change_from_baseline              -0.236372   \n",
       "workplaces_percent_change_from_baseline                     0.167489   \n",
       "residential_percent_change_from_baseline                   -0.073979   \n",
       "\n",
       "                                                    cases_growth_factor  \\\n",
       "retail_and_recreation_percent_change_from_baseline             0.487443   \n",
       "grocery_and_pharmacy_percent_change_from_baseline              0.036716   \n",
       "parks_percent_change_from_baseline                             0.244887   \n",
       "transit_stations_percent_change_from_baseline                  0.477896   \n",
       "workplaces_percent_change_from_baseline                        0.201540   \n",
       "residential_percent_change_from_baseline                      -0.279997   \n",
       "\n",
       "                                                    deaths_growth_factor  \n",
       "retail_and_recreation_percent_change_from_baseline             -0.703580  \n",
       "grocery_and_pharmacy_percent_change_from_baseline              -0.643666  \n",
       "parks_percent_change_from_baseline                             -0.678449  \n",
       "transit_stations_percent_change_from_baseline                  -0.726101  \n",
       "workplaces_percent_change_from_baseline                        -0.766615  \n",
       "residential_percent_change_from_baseline                        0.595343  "
      ]
     },
     "execution_count": 69,
     "metadata": {},
     "output_type": "execute_result"
    }
   ],
   "source": [
    "correlacao = pd.DataFrame(corr,index=percentChangeColumns, columns= indices)\n",
    "correlacao1 = pd.DataFrame(corr1,index=percentChangeColumns, columns= indices)\n",
    "correlacao2 = pd.DataFrame(corr2,index=percentChangeColumns, columns= indices)\n",
    "\n",
    "correlacao"
   ]
  },
  {
   "cell_type": "code",
   "execution_count": 70,
   "metadata": {},
   "outputs": [
    {
     "data": {
      "text/html": [
       "<div>\n",
       "<style scoped>\n",
       "    .dataframe tbody tr th:only-of-type {\n",
       "        vertical-align: middle;\n",
       "    }\n",
       "\n",
       "    .dataframe tbody tr th {\n",
       "        vertical-align: top;\n",
       "    }\n",
       "\n",
       "    .dataframe thead th {\n",
       "        text-align: right;\n",
       "    }\n",
       "</style>\n",
       "<table border=\"1\" class=\"dataframe\">\n",
       "  <thead>\n",
       "    <tr style=\"text-align: right;\">\n",
       "      <th></th>\n",
       "      <th>last_available_confirmed</th>\n",
       "      <th>last_available_deaths</th>\n",
       "      <th>new_week_cases</th>\n",
       "      <th>new_week_deaths</th>\n",
       "      <th>prevalence</th>\n",
       "      <th>mortality</th>\n",
       "      <th>lethality</th>\n",
       "      <th>incidence_cases</th>\n",
       "      <th>incidence_deaths</th>\n",
       "      <th>cases_growth_factor</th>\n",
       "      <th>deaths_growth_factor</th>\n",
       "    </tr>\n",
       "  </thead>\n",
       "  <tbody>\n",
       "    <tr>\n",
       "      <th>retail_and_recreation_percent_change_from_baseline</th>\n",
       "      <td>0.027140</td>\n",
       "      <td>-0.046049</td>\n",
       "      <td>-0.111913</td>\n",
       "      <td>-0.379839</td>\n",
       "      <td>0.027140</td>\n",
       "      <td>-0.046049</td>\n",
       "      <td>-0.816664</td>\n",
       "      <td>-0.111913</td>\n",
       "      <td>-0.379839</td>\n",
       "      <td>0.768876</td>\n",
       "      <td>-0.238825</td>\n",
       "    </tr>\n",
       "    <tr>\n",
       "      <th>grocery_and_pharmacy_percent_change_from_baseline</th>\n",
       "      <td>0.486062</td>\n",
       "      <td>0.463749</td>\n",
       "      <td>0.426499</td>\n",
       "      <td>0.262185</td>\n",
       "      <td>0.486062</td>\n",
       "      <td>0.463749</td>\n",
       "      <td>-0.465604</td>\n",
       "      <td>0.426499</td>\n",
       "      <td>0.262185</td>\n",
       "      <td>0.039869</td>\n",
       "      <td>-0.267952</td>\n",
       "    </tr>\n",
       "    <tr>\n",
       "      <th>parks_percent_change_from_baseline</th>\n",
       "      <td>0.075492</td>\n",
       "      <td>0.009355</td>\n",
       "      <td>-0.048606</td>\n",
       "      <td>-0.299396</td>\n",
       "      <td>0.075492</td>\n",
       "      <td>0.009355</td>\n",
       "      <td>-0.799122</td>\n",
       "      <td>-0.048606</td>\n",
       "      <td>-0.299396</td>\n",
       "      <td>0.675345</td>\n",
       "      <td>-0.254911</td>\n",
       "    </tr>\n",
       "    <tr>\n",
       "      <th>transit_stations_percent_change_from_baseline</th>\n",
       "      <td>0.088487</td>\n",
       "      <td>0.020156</td>\n",
       "      <td>-0.039424</td>\n",
       "      <td>-0.314771</td>\n",
       "      <td>0.088487</td>\n",
       "      <td>0.020156</td>\n",
       "      <td>-0.820116</td>\n",
       "      <td>-0.039424</td>\n",
       "      <td>-0.314771</td>\n",
       "      <td>0.728738</td>\n",
       "      <td>-0.264649</td>\n",
       "    </tr>\n",
       "    <tr>\n",
       "      <th>workplaces_percent_change_from_baseline</th>\n",
       "      <td>0.357521</td>\n",
       "      <td>0.349087</td>\n",
       "      <td>0.279028</td>\n",
       "      <td>0.075737</td>\n",
       "      <td>0.357521</td>\n",
       "      <td>0.349087</td>\n",
       "      <td>-0.785603</td>\n",
       "      <td>0.279028</td>\n",
       "      <td>0.075737</td>\n",
       "      <td>0.415134</td>\n",
       "      <td>-0.318248</td>\n",
       "    </tr>\n",
       "    <tr>\n",
       "      <th>residential_percent_change_from_baseline</th>\n",
       "      <td>-0.345143</td>\n",
       "      <td>-0.315760</td>\n",
       "      <td>-0.214661</td>\n",
       "      <td>0.036548</td>\n",
       "      <td>-0.345143</td>\n",
       "      <td>-0.315760</td>\n",
       "      <td>0.775164</td>\n",
       "      <td>-0.214661</td>\n",
       "      <td>0.036548</td>\n",
       "      <td>-0.459444</td>\n",
       "      <td>0.417624</td>\n",
       "    </tr>\n",
       "  </tbody>\n",
       "</table>\n",
       "</div>"
      ],
      "text/plain": [
       "                                                    last_available_confirmed  \\\n",
       "retail_and_recreation_percent_change_from_baseline                  0.027140   \n",
       "grocery_and_pharmacy_percent_change_from_baseline                   0.486062   \n",
       "parks_percent_change_from_baseline                                  0.075492   \n",
       "transit_stations_percent_change_from_baseline                       0.088487   \n",
       "workplaces_percent_change_from_baseline                             0.357521   \n",
       "residential_percent_change_from_baseline                           -0.345143   \n",
       "\n",
       "                                                    last_available_deaths  \\\n",
       "retail_and_recreation_percent_change_from_baseline              -0.046049   \n",
       "grocery_and_pharmacy_percent_change_from_baseline                0.463749   \n",
       "parks_percent_change_from_baseline                               0.009355   \n",
       "transit_stations_percent_change_from_baseline                    0.020156   \n",
       "workplaces_percent_change_from_baseline                          0.349087   \n",
       "residential_percent_change_from_baseline                        -0.315760   \n",
       "\n",
       "                                                    new_week_cases  \\\n",
       "retail_and_recreation_percent_change_from_baseline       -0.111913   \n",
       "grocery_and_pharmacy_percent_change_from_baseline         0.426499   \n",
       "parks_percent_change_from_baseline                       -0.048606   \n",
       "transit_stations_percent_change_from_baseline            -0.039424   \n",
       "workplaces_percent_change_from_baseline                   0.279028   \n",
       "residential_percent_change_from_baseline                 -0.214661   \n",
       "\n",
       "                                                    new_week_deaths  \\\n",
       "retail_and_recreation_percent_change_from_baseline        -0.379839   \n",
       "grocery_and_pharmacy_percent_change_from_baseline          0.262185   \n",
       "parks_percent_change_from_baseline                        -0.299396   \n",
       "transit_stations_percent_change_from_baseline             -0.314771   \n",
       "workplaces_percent_change_from_baseline                    0.075737   \n",
       "residential_percent_change_from_baseline                   0.036548   \n",
       "\n",
       "                                                    prevalence  mortality  \\\n",
       "retail_and_recreation_percent_change_from_baseline    0.027140  -0.046049   \n",
       "grocery_and_pharmacy_percent_change_from_baseline     0.486062   0.463749   \n",
       "parks_percent_change_from_baseline                    0.075492   0.009355   \n",
       "transit_stations_percent_change_from_baseline         0.088487   0.020156   \n",
       "workplaces_percent_change_from_baseline               0.357521   0.349087   \n",
       "residential_percent_change_from_baseline             -0.345143  -0.315760   \n",
       "\n",
       "                                                    lethality  \\\n",
       "retail_and_recreation_percent_change_from_baseline  -0.816664   \n",
       "grocery_and_pharmacy_percent_change_from_baseline   -0.465604   \n",
       "parks_percent_change_from_baseline                  -0.799122   \n",
       "transit_stations_percent_change_from_baseline       -0.820116   \n",
       "workplaces_percent_change_from_baseline             -0.785603   \n",
       "residential_percent_change_from_baseline             0.775164   \n",
       "\n",
       "                                                    incidence_cases  \\\n",
       "retail_and_recreation_percent_change_from_baseline        -0.111913   \n",
       "grocery_and_pharmacy_percent_change_from_baseline          0.426499   \n",
       "parks_percent_change_from_baseline                        -0.048606   \n",
       "transit_stations_percent_change_from_baseline             -0.039424   \n",
       "workplaces_percent_change_from_baseline                    0.279028   \n",
       "residential_percent_change_from_baseline                  -0.214661   \n",
       "\n",
       "                                                    incidence_deaths  \\\n",
       "retail_and_recreation_percent_change_from_baseline         -0.379839   \n",
       "grocery_and_pharmacy_percent_change_from_baseline           0.262185   \n",
       "parks_percent_change_from_baseline                         -0.299396   \n",
       "transit_stations_percent_change_from_baseline              -0.314771   \n",
       "workplaces_percent_change_from_baseline                     0.075737   \n",
       "residential_percent_change_from_baseline                    0.036548   \n",
       "\n",
       "                                                    cases_growth_factor  \\\n",
       "retail_and_recreation_percent_change_from_baseline             0.768876   \n",
       "grocery_and_pharmacy_percent_change_from_baseline              0.039869   \n",
       "parks_percent_change_from_baseline                             0.675345   \n",
       "transit_stations_percent_change_from_baseline                  0.728738   \n",
       "workplaces_percent_change_from_baseline                        0.415134   \n",
       "residential_percent_change_from_baseline                      -0.459444   \n",
       "\n",
       "                                                    deaths_growth_factor  \n",
       "retail_and_recreation_percent_change_from_baseline             -0.238825  \n",
       "grocery_and_pharmacy_percent_change_from_baseline              -0.267952  \n",
       "parks_percent_change_from_baseline                             -0.254911  \n",
       "transit_stations_percent_change_from_baseline                  -0.264649  \n",
       "workplaces_percent_change_from_baseline                        -0.318248  \n",
       "residential_percent_change_from_baseline                        0.417624  "
      ]
     },
     "execution_count": 70,
     "metadata": {},
     "output_type": "execute_result"
    }
   ],
   "source": [
    "correlacao1"
   ]
  },
  {
   "cell_type": "code",
   "execution_count": 71,
   "metadata": {},
   "outputs": [
    {
     "data": {
      "text/html": [
       "<div>\n",
       "<style scoped>\n",
       "    .dataframe tbody tr th:only-of-type {\n",
       "        vertical-align: middle;\n",
       "    }\n",
       "\n",
       "    .dataframe tbody tr th {\n",
       "        vertical-align: top;\n",
       "    }\n",
       "\n",
       "    .dataframe thead th {\n",
       "        text-align: right;\n",
       "    }\n",
       "</style>\n",
       "<table border=\"1\" class=\"dataframe\">\n",
       "  <thead>\n",
       "    <tr style=\"text-align: right;\">\n",
       "      <th></th>\n",
       "      <th>last_available_confirmed</th>\n",
       "      <th>last_available_deaths</th>\n",
       "      <th>new_week_cases</th>\n",
       "      <th>new_week_deaths</th>\n",
       "      <th>prevalence</th>\n",
       "      <th>mortality</th>\n",
       "      <th>lethality</th>\n",
       "      <th>incidence_cases</th>\n",
       "      <th>incidence_deaths</th>\n",
       "      <th>cases_growth_factor</th>\n",
       "      <th>deaths_growth_factor</th>\n",
       "    </tr>\n",
       "  </thead>\n",
       "  <tbody>\n",
       "    <tr>\n",
       "      <th>retail_and_recreation_percent_change_from_baseline</th>\n",
       "      <td>-0.026799</td>\n",
       "      <td>-0.111350</td>\n",
       "      <td>-0.186097</td>\n",
       "      <td>-0.477794</td>\n",
       "      <td>-0.026799</td>\n",
       "      <td>-0.111350</td>\n",
       "      <td>-0.654526</td>\n",
       "      <td>-0.186097</td>\n",
       "      <td>-0.477794</td>\n",
       "      <td>0.787285</td>\n",
       "      <td>0.182546</td>\n",
       "    </tr>\n",
       "    <tr>\n",
       "      <th>grocery_and_pharmacy_percent_change_from_baseline</th>\n",
       "      <td>0.463256</td>\n",
       "      <td>0.433258</td>\n",
       "      <td>0.334170</td>\n",
       "      <td>0.210541</td>\n",
       "      <td>0.463256</td>\n",
       "      <td>0.433258</td>\n",
       "      <td>-0.434877</td>\n",
       "      <td>0.334170</td>\n",
       "      <td>0.210541</td>\n",
       "      <td>0.150151</td>\n",
       "      <td>-0.014019</td>\n",
       "    </tr>\n",
       "    <tr>\n",
       "      <th>parks_percent_change_from_baseline</th>\n",
       "      <td>0.013902</td>\n",
       "      <td>-0.061477</td>\n",
       "      <td>-0.138416</td>\n",
       "      <td>-0.408839</td>\n",
       "      <td>0.013902</td>\n",
       "      <td>-0.061477</td>\n",
       "      <td>-0.767093</td>\n",
       "      <td>-0.138416</td>\n",
       "      <td>-0.408839</td>\n",
       "      <td>0.698939</td>\n",
       "      <td>0.000269</td>\n",
       "    </tr>\n",
       "    <tr>\n",
       "      <th>transit_stations_percent_change_from_baseline</th>\n",
       "      <td>0.045702</td>\n",
       "      <td>-0.036048</td>\n",
       "      <td>-0.116236</td>\n",
       "      <td>-0.406670</td>\n",
       "      <td>0.045702</td>\n",
       "      <td>-0.036048</td>\n",
       "      <td>-0.669725</td>\n",
       "      <td>-0.116236</td>\n",
       "      <td>-0.406670</td>\n",
       "      <td>0.754771</td>\n",
       "      <td>0.172475</td>\n",
       "    </tr>\n",
       "    <tr>\n",
       "      <th>workplaces_percent_change_from_baseline</th>\n",
       "      <td>0.353887</td>\n",
       "      <td>0.330082</td>\n",
       "      <td>0.252337</td>\n",
       "      <td>-0.020772</td>\n",
       "      <td>0.353887</td>\n",
       "      <td>0.330082</td>\n",
       "      <td>-0.754997</td>\n",
       "      <td>0.252337</td>\n",
       "      <td>-0.020772</td>\n",
       "      <td>0.480870</td>\n",
       "      <td>0.033649</td>\n",
       "    </tr>\n",
       "    <tr>\n",
       "      <th>residential_percent_change_from_baseline</th>\n",
       "      <td>-0.364800</td>\n",
       "      <td>-0.317879</td>\n",
       "      <td>-0.172169</td>\n",
       "      <td>0.112082</td>\n",
       "      <td>-0.364800</td>\n",
       "      <td>-0.317879</td>\n",
       "      <td>0.659668</td>\n",
       "      <td>-0.172169</td>\n",
       "      <td>0.112082</td>\n",
       "      <td>-0.480686</td>\n",
       "      <td>-0.150256</td>\n",
       "    </tr>\n",
       "  </tbody>\n",
       "</table>\n",
       "</div>"
      ],
      "text/plain": [
       "                                                    last_available_confirmed  \\\n",
       "retail_and_recreation_percent_change_from_baseline                 -0.026799   \n",
       "grocery_and_pharmacy_percent_change_from_baseline                   0.463256   \n",
       "parks_percent_change_from_baseline                                  0.013902   \n",
       "transit_stations_percent_change_from_baseline                       0.045702   \n",
       "workplaces_percent_change_from_baseline                             0.353887   \n",
       "residential_percent_change_from_baseline                           -0.364800   \n",
       "\n",
       "                                                    last_available_deaths  \\\n",
       "retail_and_recreation_percent_change_from_baseline              -0.111350   \n",
       "grocery_and_pharmacy_percent_change_from_baseline                0.433258   \n",
       "parks_percent_change_from_baseline                              -0.061477   \n",
       "transit_stations_percent_change_from_baseline                   -0.036048   \n",
       "workplaces_percent_change_from_baseline                          0.330082   \n",
       "residential_percent_change_from_baseline                        -0.317879   \n",
       "\n",
       "                                                    new_week_cases  \\\n",
       "retail_and_recreation_percent_change_from_baseline       -0.186097   \n",
       "grocery_and_pharmacy_percent_change_from_baseline         0.334170   \n",
       "parks_percent_change_from_baseline                       -0.138416   \n",
       "transit_stations_percent_change_from_baseline            -0.116236   \n",
       "workplaces_percent_change_from_baseline                   0.252337   \n",
       "residential_percent_change_from_baseline                 -0.172169   \n",
       "\n",
       "                                                    new_week_deaths  \\\n",
       "retail_and_recreation_percent_change_from_baseline        -0.477794   \n",
       "grocery_and_pharmacy_percent_change_from_baseline          0.210541   \n",
       "parks_percent_change_from_baseline                        -0.408839   \n",
       "transit_stations_percent_change_from_baseline             -0.406670   \n",
       "workplaces_percent_change_from_baseline                   -0.020772   \n",
       "residential_percent_change_from_baseline                   0.112082   \n",
       "\n",
       "                                                    prevalence  mortality  \\\n",
       "retail_and_recreation_percent_change_from_baseline   -0.026799  -0.111350   \n",
       "grocery_and_pharmacy_percent_change_from_baseline     0.463256   0.433258   \n",
       "parks_percent_change_from_baseline                    0.013902  -0.061477   \n",
       "transit_stations_percent_change_from_baseline         0.045702  -0.036048   \n",
       "workplaces_percent_change_from_baseline               0.353887   0.330082   \n",
       "residential_percent_change_from_baseline             -0.364800  -0.317879   \n",
       "\n",
       "                                                    lethality  \\\n",
       "retail_and_recreation_percent_change_from_baseline  -0.654526   \n",
       "grocery_and_pharmacy_percent_change_from_baseline   -0.434877   \n",
       "parks_percent_change_from_baseline                  -0.767093   \n",
       "transit_stations_percent_change_from_baseline       -0.669725   \n",
       "workplaces_percent_change_from_baseline             -0.754997   \n",
       "residential_percent_change_from_baseline             0.659668   \n",
       "\n",
       "                                                    incidence_cases  \\\n",
       "retail_and_recreation_percent_change_from_baseline        -0.186097   \n",
       "grocery_and_pharmacy_percent_change_from_baseline          0.334170   \n",
       "parks_percent_change_from_baseline                        -0.138416   \n",
       "transit_stations_percent_change_from_baseline             -0.116236   \n",
       "workplaces_percent_change_from_baseline                    0.252337   \n",
       "residential_percent_change_from_baseline                  -0.172169   \n",
       "\n",
       "                                                    incidence_deaths  \\\n",
       "retail_and_recreation_percent_change_from_baseline         -0.477794   \n",
       "grocery_and_pharmacy_percent_change_from_baseline           0.210541   \n",
       "parks_percent_change_from_baseline                         -0.408839   \n",
       "transit_stations_percent_change_from_baseline              -0.406670   \n",
       "workplaces_percent_change_from_baseline                    -0.020772   \n",
       "residential_percent_change_from_baseline                    0.112082   \n",
       "\n",
       "                                                    cases_growth_factor  \\\n",
       "retail_and_recreation_percent_change_from_baseline             0.787285   \n",
       "grocery_and_pharmacy_percent_change_from_baseline              0.150151   \n",
       "parks_percent_change_from_baseline                             0.698939   \n",
       "transit_stations_percent_change_from_baseline                  0.754771   \n",
       "workplaces_percent_change_from_baseline                        0.480870   \n",
       "residential_percent_change_from_baseline                      -0.480686   \n",
       "\n",
       "                                                    deaths_growth_factor  \n",
       "retail_and_recreation_percent_change_from_baseline              0.182546  \n",
       "grocery_and_pharmacy_percent_change_from_baseline              -0.014019  \n",
       "parks_percent_change_from_baseline                              0.000269  \n",
       "transit_stations_percent_change_from_baseline                   0.172475  \n",
       "workplaces_percent_change_from_baseline                         0.033649  \n",
       "residential_percent_change_from_baseline                       -0.150256  "
      ]
     },
     "execution_count": 71,
     "metadata": {},
     "output_type": "execute_result"
    }
   ],
   "source": [
    "correlacao2"
   ]
  }
 ],
 "metadata": {
  "kernelspec": {
   "display_name": "Python 3",
   "language": "python",
   "name": "python3"
  },
  "language_info": {
   "codemirror_mode": {
    "name": "ipython",
    "version": 3
   },
   "file_extension": ".py",
   "mimetype": "text/x-python",
   "name": "python",
   "nbconvert_exporter": "python",
   "pygments_lexer": "ipython3",
   "version": "3.7.3"
  }
 },
 "nbformat": 4,
 "nbformat_minor": 4
}
