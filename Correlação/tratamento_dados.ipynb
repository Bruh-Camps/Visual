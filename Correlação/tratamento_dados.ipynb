{
 "cells": [
  {
   "cell_type": "code",
   "execution_count": 1,
   "metadata": {},
   "outputs": [],
   "source": [
    "import pandas as pd\n",
    "\n",
    "#Abre os bancos de dados necessários\n",
    "pop = pd.read_csv('base_csv/pop2020.csv')\n",
    "io = pd.read_csv('base_csv/caso_full.csv')"
   ]
  },
  {
   "cell_type": "code",
   "execution_count": 2,
   "metadata": {},
   "outputs": [],
   "source": [
    "#Arruma os nomes das colunas para realizar o merge\n",
    "pop.rename(columns={'Total':'total_inhabitants','Armenor':'ibge_code'}, inplace = True)"
   ]
  },
  {
   "cell_type": "code",
   "execution_count": 3,
   "metadata": {},
   "outputs": [],
   "source": [
    "#Filtra somente os dados do último dia das semanas epidemiológicas\n",
    "dates = ['2020-02-29', '2020-03-07', '2020-03-14','2020-03-21',\n",
    "         '2020-03-28', '2020-04-04', '2020-04-11', '2020-04-18',\n",
    "         '2020-04-25', '2020-05-02', '2020-05-09', '2020-05-16',\n",
    "         '2020-05-23', '2020-05-30', '2020-06-06', '2020-06-13',\n",
    "         '2020-06-20', '2020-06-27', '2020-07-04', '2020-07-11',\n",
    "         '2020-07-18', '2020-07-25', '2020-08-01','2020-08-08',\n",
    "         '2020-08-15','2020-08-22','2020-08-29','2020-09-05',\n",
    "         '2020-09-12','2020-09-19']\n",
    "\n",
    "datesDF = pd.DataFrame(dates,columns=['date'])\n",
    "\n",
    "select_for_dates = pd.merge(io,datesDF, how = 'inner')\n",
    "\n",
    "#Arruma o nome das colunas\n",
    "select_for_dates.rename(columns={'city_ibge_code':'ibge_code','date':'week_last_day'}, inplace = True)\n"
   ]
  },
  {
   "cell_type": "code",
   "execution_count": 4,
   "metadata": {},
   "outputs": [],
   "source": [
    "#Classifica os estados por macro regiões\n",
    "def region(x):\n",
    "    regions = {\n",
    "        'norte':['AM','RR','AP','PA','TO','RO','AC'],\n",
    "        'nordeste':['MA','PI','CE','RN','PE','PB','SE','AL','BA'],\n",
    "        'centro-oeste':['MT','MS','GO','DF'],\n",
    "        'sudeste':['MG','SP','RJ','ES'],\n",
    "        'sul':['PR','RS','SC']       \n",
    "    }\n",
    "    for k,v in regions.items():\n",
    "        if x['state'] in v:\n",
    "            return k\n",
    "    \n",
    "select_for_dates['region'] = select_for_dates.apply(region,axis=1)"
   ]
  },
  {
   "cell_type": "code",
   "execution_count": 5,
   "metadata": {},
   "outputs": [],
   "source": [
    "#Cria uma coluna com a sigla de cada estado e uma com a região.\n",
    "states_list = {'ACRE':'AC','ALAGOAS':'AL','AMAPÁ':'AP','AMAZONAS':'AM',\n",
    "               'BAHIA':'BA','CEARÁ':'CE','ESPÍRITO SANTO':'ES','GOIÁS':'GO',\n",
    "               'MARANHÃO':'MA','MATO GROSSO':'MT','MATO GROSSO DO SUL':'MS',\n",
    "               'MINAS GERAIS':'MG','PARÁ':'PA','PARAÍBA':'PB','PARANÁ':'PR',\n",
    "               'PERNAMBUCO':'PE','PIAUÍ':'PI','RIO DE JANEIRO':'RJ',\n",
    "               'RIO GRANDE DO NORTE':'RN','RIO GRANDE DO SUL':'RS','RONDÔNIA':'RO',\n",
    "               'RORAIMA':'RR','SANTA CATARINA':'SC','SÃO PAULO':'SP','SERGIPE':'SE',\n",
    "               'TOCANTINS':'TO','DISTRITO FEDERAL':'DF'}\n",
    "pop['state']=pop['ARmaior'].apply(lambda x: states_list[x])\n",
    "pop['region']=pop.apply(region,axis=1)"
   ]
  },
  {
   "cell_type": "code",
   "execution_count": 6,
   "metadata": {},
   "outputs": [],
   "source": [
    "#Seleciona o df de população para cálculo por cidades\n",
    "pop_cities = pop[['ibge_code','total_inhabitants']].copy()"
   ]
  },
  {
   "cell_type": "code",
   "execution_count": 7,
   "metadata": {},
   "outputs": [],
   "source": [
    "#Seleciona o df de população para cálculo por estados\n",
    "pop_states = pop[['state','total_inhabitants']].copy()\n",
    "pop_states = pop_states.groupby(pop_states['state']).sum().reset_index()"
   ]
  },
  {
   "cell_type": "code",
   "execution_count": 8,
   "metadata": {},
   "outputs": [],
   "source": [
    "#Seleciona o df de população para cálculo por regiões\n",
    "pop_region = pop[['region','total_inhabitants']].copy()\n",
    "pop_region = pop_region.groupby(pop_region['region']).sum().reset_index()"
   ]
  },
  {
   "cell_type": "code",
   "execution_count": 9,
   "metadata": {},
   "outputs": [],
   "source": [
    "#Coloca o total da população das cidades no df selecionado por datas\n",
    "cities_df = pd.merge(select_for_dates,pop_cities, how ='inner')"
   ]
  },
  {
   "cell_type": "code",
   "execution_count": 10,
   "metadata": {},
   "outputs": [],
   "source": [
    "#Coloca o total da população dos estados no df selecionado por datas\n",
    "states_df = pd.merge(select_for_dates,pop_states, how ='inner')"
   ]
  },
  {
   "cell_type": "code",
   "execution_count": 11,
   "metadata": {},
   "outputs": [],
   "source": [
    "#Seleciona apenas os estados no df de estados\n",
    "states_df = states_df[states_df['place_type']=='state']"
   ]
  },
  {
   "cell_type": "code",
   "execution_count": 12,
   "metadata": {},
   "outputs": [],
   "source": [
    "#Seleciona somente os estados no df de regiões\n",
    "regions_df = select_for_dates.copy()\n",
    "regions_df = regions_df[regions_df['place_type']=='state']\n"
   ]
  },
  {
   "cell_type": "code",
   "execution_count": 13,
   "metadata": {},
   "outputs": [],
   "source": [
    "#Encontrar o valor dos novos casoso por semana, para cidades, estados e regiões\n",
    "last_place = 0\n",
    "last_num = 0 \n",
    "\n",
    "def get_num(x):\n",
    "    global last_num, last_place\n",
    "    if last_place == x['ibge_code']:\n",
    "        current = x['last_available_confirmed']-last_num\n",
    "        last_num = x['last_available_confirmed']\n",
    "        return current\n",
    "    else:\n",
    "        last_place = x['ibge_code']\n",
    "        last_num = 0\n",
    "        return get_num(x)\n",
    "\n",
    "\n",
    "cities_df = cities_df.sort_values(by=['ibge_code','week_last_day']).copy()\n",
    "cities_df['new_week_cases'] = cities_df.apply(get_num , axis=1)\n",
    "\n",
    "states_df = states_df.sort_values(by=['ibge_code','week_last_day']).copy()\n",
    "states_df['new_week_cases'] = states_df.apply(get_num , axis=1)\n",
    "\n",
    "regions_df = regions_df.sort_values(by=['ibge_code','week_last_day']).copy()\n",
    "regions_df['new_week_cases'] = regions_df.apply(get_num , axis=1)\n"
   ]
  },
  {
   "cell_type": "code",
   "execution_count": 14,
   "metadata": {},
   "outputs": [],
   "source": [
    "#Encontrar o valor dos novos óbitos por semana\n",
    "\n",
    "last_place = 0\n",
    "last_num = 0 \n",
    "\n",
    "def get_num(x):\n",
    "    global last_num, last_place\n",
    "    if last_place == x['ibge_code']:\n",
    "        current = x['last_available_deaths']-last_num\n",
    "        last_num = x['last_available_deaths']\n",
    "        return current\n",
    "    else:\n",
    "        last_place = x['ibge_code']\n",
    "        last_num = 0\n",
    "        return get_num(x)\n",
    "\n",
    "\n",
    "\n",
    "cities_df['new_week_deaths'] = cities_df.apply(get_num , axis=1)\n",
    "states_df['new_week_deaths'] = states_df.apply(get_num , axis=1)\n",
    "regions_df['new_week_deaths'] = regions_df.apply(get_num , axis=1)\n"
   ]
  },
  {
   "cell_type": "code",
   "execution_count": 15,
   "metadata": {},
   "outputs": [],
   "source": [
    "#DF por cidades\n",
    "cities_df= cities_df.copy().reset_index()\n",
    "cities_df = cities_df[['region','state','city','ibge_code','week_last_day','epidemiological_week','total_inhabitants','last_available_confirmed','last_available_deaths','new_week_cases','new_week_deaths']].copy()"
   ]
  },
  {
   "cell_type": "code",
   "execution_count": 16,
   "metadata": {},
   "outputs": [],
   "source": [
    "#DF por estado\n",
    "states_df = states_df[['state','ibge_code','week_last_day','epidemiological_week','total_inhabitants','last_available_confirmed','last_available_deaths','new_week_cases','new_week_deaths']].copy().reset_index()\n"
   ]
  },
  {
   "cell_type": "code",
   "execution_count": 17,
   "metadata": {},
   "outputs": [],
   "source": [
    "#DF por macro região \n",
    "regions_df = regions_df.groupby(['region','epidemiological_week','week_last_day']).sum().reset_index()\n",
    "regions_df = pd.merge(regions_df,pop_region, how = 'inner')\n",
    "regions_df = regions_df[['region','week_last_day','epidemiological_week','total_inhabitants','last_available_confirmed','last_available_deaths','new_week_cases','new_week_deaths']].copy()"
   ]
  },
  {
   "cell_type": "code",
   "execution_count": 18,
   "metadata": {},
   "outputs": [],
   "source": [
    "#DF Brasil\n",
    "brazil_df = states_df.groupby(['epidemiological_week','week_last_day']).sum().reset_index()\n",
    "brazil_df = brazil_df[['week_last_day','epidemiological_week','last_available_confirmed','last_available_deaths','new_week_cases','new_week_deaths']].copy()\n",
    "#Corrige o valor da população total\n",
    "total_inhabitants = pop['total_inhabitants'].sum()\n",
    "brazil_df['total_inhabitants']= brazil_df.apply(lambda x: total_inhabitants,axis=1)\n",
    "brazil_df = brazil_df[['week_last_day','epidemiological_week','total_inhabitants','last_available_confirmed','last_available_deaths','new_week_cases','new_week_deaths']].copy()\n"
   ]
  },
  {
   "cell_type": "code",
   "execution_count": 19,
   "metadata": {},
   "outputs": [],
   "source": [
    "#---------------------Indicadores ---------------------"
   ]
  },
  {
   "cell_type": "code",
   "execution_count": 20,
   "metadata": {},
   "outputs": [],
   "source": [
    "#Indicador de Casos e Óbitos acumulados,por semana epidemiológica, já esta no DF, \n",
    "#respesctivamente nas colunas last_available_confirmed e last_available_deaths"
   ]
  },
  {
   "cell_type": "code",
   "execution_count": 21,
   "metadata": {},
   "outputs": [],
   "source": [
    "#Novos Casos e Novos Óbitos, por semana epidemiológica, já está no DF,\n",
    "#respesctivamente nas colunas new_week_cases e new_week_deaths"
   ]
  },
  {
   "cell_type": "code",
   "execution_count": 22,
   "metadata": {},
   "outputs": [],
   "source": [
    "def indicators_state_city(data_frame):\n",
    "    #Prevalência\n",
    "    data_frame['prevalence'] = data_frame.apply(lambda x:x['last_available_confirmed']*100000/x['total_inhabitants'] , axis=1)\n",
    "    \n",
    "    #Indicador Mortalidade\n",
    "    data_frame['mortality'] = data_frame.apply(lambda x:x['last_available_deaths']*100000/x['total_inhabitants'] , axis=1)\n",
    "    \n",
    "    #Indicador de Letalidade em %\n",
    "    def lethality(x):\n",
    "        if x['last_available_confirmed']==0:\n",
    "            return 0\n",
    "        else:\n",
    "            return x['last_available_deaths']/x['last_available_confirmed']*100\n",
    "    data_frame['lethality'] = data_frame.apply(lethality, axis=1)\n",
    "    \n",
    "    #Incidência de novos casos\n",
    "    data_frame['incidence_cases'] = data_frame.apply(lambda x:x['new_week_cases']*100000/x['total_inhabitants'] , axis=1)\n",
    "    \n",
    "    #Incidência de novos óbitos\n",
    "    data_frame['incidence_deaths'] = data_frame.apply(lambda x:x['new_week_deaths']*100000/x['total_inhabitants'] , axis=1)\n",
    "\n",
    "    #Indicador Fator de Crescimento  dos casos\n",
    "    last_number_cases=0\n",
    "    last_place_cases = ''\n",
    "\n",
    "    def get_FC_cases(x):\n",
    "        nonlocal last_number_cases, last_place_cases\n",
    "        \n",
    "        if last_place_cases != x['ibge_code']:\n",
    "            last_place_cases = x['ibge_code']\n",
    "            last_number_cases = x['new_week_cases']\n",
    "            return 0  \n",
    "        elif last_number_cases ==0:\n",
    "            last_number_cases = x['new_week_cases']\n",
    "            return 0\n",
    "            \n",
    "        else:\n",
    "            fc= x['new_week_cases']/last_number_cases\n",
    "            last_number_cases = x['new_week_cases']\n",
    "            return fc\n",
    "\n",
    "    data_frame['cases_growth_factor'] = data_frame.apply(get_FC_cases, axis=1)\n",
    "\n",
    "    #Indicador Fator de Crescimento  dos óbitos\n",
    "    last_number_deaths=0\n",
    "    last_place_deaths = ''\n",
    "    \n",
    "\n",
    "    def get_FC_deaths(x):\n",
    "        nonlocal last_number_deaths, last_place_deaths\n",
    "        \n",
    "        if last_place_deaths != x['ibge_code']:\n",
    "            last_place_deaths = x['ibge_code']\n",
    "            last_number_deaths = x['new_week_deaths']\n",
    "            return 0 \n",
    "        elif last_number_deaths ==0:\n",
    "            last_number_deaths = x['new_week_deaths']\n",
    "            return 0\n",
    "        \n",
    "        else:\n",
    "            fc= x['new_week_deaths']/last_number_deaths\n",
    "            last_number_deaths = x['new_week_deaths']\n",
    "            return fc\n",
    "\n",
    "    data_frame['deaths_growth_factor'] = data_frame.apply(get_FC_deaths, axis=1)"
   ]
  },
  {
   "cell_type": "code",
   "execution_count": 23,
   "metadata": {},
   "outputs": [],
   "source": [
    "def indicators_region(data_frame):\n",
    "    #Prevalência\n",
    "    data_frame['prevalence'] = data_frame.apply(lambda x:x['last_available_confirmed']*100000/x['total_inhabitants'] , axis=1)\n",
    "    \n",
    "    #Indicador Mortalidade\n",
    "    data_frame['mortality'] = data_frame.apply(lambda x:x['last_available_deaths']*100000/x['total_inhabitants'] , axis=1)\n",
    "    \n",
    "    #Indicador de Letalidade em %\n",
    "    def lethality(x):\n",
    "        if x['last_available_confirmed']==0:\n",
    "            return 0\n",
    "        else:\n",
    "            return x['last_available_deaths']/x['last_available_confirmed']*100\n",
    "    data_frame['lethality'] = data_frame.apply(lethality, axis=1)\n",
    "    \n",
    "    #Incidência de novos casos\n",
    "    data_frame['incidence_cases'] = data_frame.apply(lambda x:x['new_week_cases']*100000/x['total_inhabitants'] , axis=1)\n",
    "    \n",
    "    #Incidência de novos óbitos\n",
    "    data_frame['incidence_deaths'] = data_frame.apply(lambda x:x['new_week_deaths']*100000/x['total_inhabitants'] , axis=1)\n",
    "\n",
    "    #Indicador Fator de Crescimento  dos casos\n",
    "    last_number_cases=0\n",
    "    last_place_cases = ''\n",
    "\n",
    "    def get_FC_cases(x):\n",
    "        nonlocal last_number_cases, last_place_cases\n",
    "        \n",
    "        if last_place_cases != x['region']:\n",
    "            last_place_cases = x['region']\n",
    "            last_number_cases = x['new_week_cases']\n",
    "            return 0  \n",
    "        elif last_number_cases ==0:\n",
    "            last_number_cases = x['new_week_cases']\n",
    "            return 0\n",
    "            \n",
    "        else:\n",
    "            fc= x['new_week_cases']/last_number_cases\n",
    "            last_number_cases = x['new_week_cases']\n",
    "            return fc\n",
    "\n",
    "    data_frame['cases_growth_factor'] = data_frame.apply(get_FC_cases, axis=1)\n",
    "\n",
    "    #Indicador Fator de Crescimento  dos óbitos\n",
    "    last_number_deaths=0\n",
    "    last_place_deaths = ''\n",
    "    \n",
    "\n",
    "    def get_FC_deaths(x):\n",
    "        nonlocal last_number_deaths, last_place_deaths\n",
    "        \n",
    "        if last_place_deaths != x['region']:\n",
    "            last_place_deaths = x['region']\n",
    "            last_number_deaths = x['new_week_deaths']\n",
    "            return 0 \n",
    "        elif last_number_deaths ==0:\n",
    "            last_number_deaths = x['new_week_deaths']\n",
    "            return 0\n",
    "        \n",
    "        else:\n",
    "            fc= x['new_week_deaths']/last_number_deaths\n",
    "            last_number_deaths = x['new_week_deaths']\n",
    "            return fc\n",
    "\n",
    "    data_frame['deaths_growth_factor'] = data_frame.apply(get_FC_deaths, axis=1)"
   ]
  },
  {
   "cell_type": "code",
   "execution_count": 24,
   "metadata": {},
   "outputs": [],
   "source": [
    "def indicators_brazil(data_frame):\n",
    "    #Prevalência\n",
    "    data_frame['prevalence'] = data_frame.apply(lambda x:x['last_available_confirmed']*100000/x['total_inhabitants'] , axis=1)\n",
    "    \n",
    "    #Indicador Mortalidade\n",
    "    data_frame['mortality'] = data_frame.apply(lambda x:x['last_available_deaths']*100000/x['total_inhabitants'] , axis=1)\n",
    "    \n",
    "    #Indicador de Letalidade em %\n",
    "    def lethality(x):\n",
    "        if x['last_available_confirmed']==0:\n",
    "            return 0\n",
    "        else:\n",
    "            return x['last_available_deaths']/x['last_available_confirmed']*100\n",
    "    data_frame['lethality'] = data_frame.apply(lethality, axis=1)\n",
    "    \n",
    "    #Incidência de novos casos\n",
    "    data_frame['incidence_cases'] = data_frame.apply(lambda x:x['new_week_cases']*100000/x['total_inhabitants'] , axis=1)\n",
    "    \n",
    "    #Incidência de novos óbitos\n",
    "    data_frame['incidence_deaths'] = data_frame.apply(lambda x:x['new_week_deaths']*100000/x['total_inhabitants'] , axis=1)\n",
    "\n",
    "    #Indicador Fator de Crescimento  dos casos\n",
    "    last_number_cases=0\n",
    "\n",
    "    def get_FC_cases(x):\n",
    "        nonlocal last_number_cases\n",
    "        if last_number_cases ==0:\n",
    "            last_number_cases = x['new_week_cases']\n",
    "            return 0\n",
    "        else:\n",
    "            fc= x['new_week_cases']/last_number_cases\n",
    "            last_number_cases = x['new_week_cases']\n",
    "            return fc\n",
    "\n",
    "    data_frame['cases_growth_factor'] = data_frame.apply(get_FC_cases, axis=1)\n",
    "\n",
    "    #Indicador Fator de Crescimento  dos óbitos\n",
    "    last_number_deaths=0\n",
    "    \n",
    "\n",
    "    def get_FC_deaths(x):\n",
    "        nonlocal last_number_deaths\n",
    "        if last_number_deaths ==0:\n",
    "            last_number_deaths = x['new_week_deaths']\n",
    "            return 0\n",
    "        \n",
    "        else:\n",
    "            fc= x['new_week_deaths']/last_number_deaths\n",
    "            last_number_deaths = x['new_week_deaths']\n",
    "            return fc\n",
    "\n",
    "    data_frame['deaths_growth_factor'] = data_frame.apply(get_FC_deaths, axis=1)"
   ]
  },
  {
   "cell_type": "code",
   "execution_count": 25,
   "metadata": {},
   "outputs": [],
   "source": [
    "#Calcula os indicadores\n",
    "indicators_region(regions_df)\n",
    "indicators_brazil(brazil_df)\n",
    "indicators_state_city(cities_df)\n",
    "indicators_state_city(states_df)\n"
   ]
  },
  {
   "cell_type": "code",
   "execution_count": null,
   "metadata": {},
   "outputs": [],
   "source": []
  },
  {
   "cell_type": "markdown",
   "metadata": {},
   "source": [
    "## Guardando dados no banco de dados local "
   ]
  },
  {
   "cell_type": "code",
   "execution_count": 26,
   "metadata": {},
   "outputs": [],
   "source": [
    "#Remove o BD caso ele já exista\n",
    "import os\n",
    "os.remove (\"database/indicadores.db\") if os.path.exists (\"database/indicadores.db\") else None"
   ]
  },
  {
   "cell_type": "code",
   "execution_count": 27,
   "metadata": {},
   "outputs": [],
   "source": [
    "#Importa a biblioteca do sqlite, cria a conexão e o ponteiro\n",
    "import sqlite3\n",
    "con = sqlite3.connect(\"database/indicadores.db\")  ##OBS: se o BD não existir, ele é criado automaticamente\n",
    "cur = con.cursor()"
   ]
  },
  {
   "cell_type": "code",
   "execution_count": 28,
   "metadata": {},
   "outputs": [],
   "source": [
    "#Guarda os dataframes no BD (se a taela já existir, substitui)\n",
    "cities_df.to_sql('cities_df', con, if_exists='replace', index=False)\n",
    "states_df.to_sql('states_df', con, if_exists='replace', index=False)\n",
    "regions_df.to_sql('regions_df', con, if_exists='replace', index=False)\n",
    "brazil_df.to_sql('brazil_df', con, if_exists='replace', index=False)"
   ]
  },
  {
   "cell_type": "markdown",
   "metadata": {},
   "source": [
    "## Leitura e consulta do BD\n",
    "- OBS: A partir daqui o código já pode ser incorporado ao notebook de visualização, já que os dados já estão salvos no BD. Se esse for o caso, tire do comentário a próxima célula."
   ]
  },
  {
   "cell_type": "code",
   "execution_count": 206,
   "metadata": {},
   "outputs": [],
   "source": [
    "#Importa a biblioteca do sqlite, cria a conexão e o ponteiro\n",
    "#import sqlite3\n",
    "#con = sqlite3.connect(\"resultados/indicadores.db\")  ##OBS: se o BD não existir, ele é criado automaticamente\n",
    "#cur = con.cursor()"
   ]
  },
  {
   "cell_type": "markdown",
   "metadata": {},
   "source": [
    "#### plotar gráficos a partir de Dataframes (mais fácil)"
   ]
  },
  {
   "cell_type": "code",
   "execution_count": 207,
   "metadata": {},
   "outputs": [],
   "source": [
    "##Lendo tabelas do BD direto para DataFrames (pode ser usado para gerar gráficos a partir dos DFs)\n",
    "cities_df = pd.read_sql('select * from cities_df', con)\n",
    "states_df = pd.read_sql('select * from states_df', con)\n",
    "regions_df = pd.read_sql('select * from regions_df', con)\n",
    "brazil_df = pd.read_sql('select * from brazil_df', con)\n",
    "\n",
    "##PLOTAR AQUI"
   ]
  },
  {
   "cell_type": "markdown",
   "metadata": {},
   "source": [
    "#### plotar gráficos diretamente do BD (mais rápido)"
   ]
  },
  {
   "cell_type": "code",
   "execution_count": 209,
   "metadata": {},
   "outputs": [
    {
     "data": {
      "image/png": "[encoded data removed]",
      "text/plain": [
       "<Figure size 432x288 with 1 Axes>"
      ]
     },
     "metadata": {
      "needs_background": "light"
     },
     "output_type": "display_data"
    }
   ],
   "source": [
    "#exemplo de plotagem\n",
    "import matplotlib.pyplot as plt\n",
    "\n",
    "##MODELO: \"SELECT colunas FROM tabela\"\n",
    "\n",
    "cur.execute(\"SELECT region, epidemiological_week, new_week_cases FROM regions_df\")\n",
    "\n",
    "regioes = []\n",
    "semana_ep = []      #<----não está sendo usado no exemplo\n",
    "novos_casos = []\n",
    "\n",
    "dados = cur.fetchall() \n",
    "for linha in dados:\n",
    "    regioes.append(linha[0])\n",
    "    semana_ep.append(linha[1])     #<----não está sendo usado no exemplo\n",
    "    novos_casos.append(linha[2])\n",
    "    \n",
    "plt.bar(regioes, novos_casos)\n",
    "plt.show()"
   ]
  },
  {
   "cell_type": "markdown",
   "metadata": {},
   "source": [
    "### CONSULTAS - modo visual (recomendado)\n",
    "- Para conseguir visualizar diretamente o banco de dados (sem o python), entre em 'https://sqlitebrowser.org/dl/' e baixe o SqLite Browser. Nele é possível fazer consultas e conferência de dados. (essa aplicação é leve e confiável)\n",
    "- Com o programa instalado, basta abrir o arquivo \"indicadores.db\" e depoir ir em \"tabelas\". Depois clique com o botão direito em uma delas e selecione a opção \"navegar tabelas\". Lá é possivel visualizar e filtar dados diretamente."
   ]
  },
  {
   "cell_type": "markdown",
   "metadata": {},
   "source": [
    "### CONSULTAS - por código\n",
    "- Também é possível fazer solicitações específicas para o banco de dados diretamente por meio de instruções SQL. Abaixo há um exemplo que soma o total de habitantes da tabela de cidades para as cidades da região sudeste."
   ]
  },
  {
   "cell_type": "code",
   "execution_count": 210,
   "metadata": {},
   "outputs": [
    {
     "data": {
      "text/html": [
       "<div>\n",
       "<style scoped>\n",
       "    .dataframe tbody tr th:only-of-type {\n",
       "        vertical-align: middle;\n",
       "    }\n",
       "\n",
       "    .dataframe tbody tr th {\n",
       "        vertical-align: top;\n",
       "    }\n",
       "\n",
       "    .dataframe thead th {\n",
       "        text-align: right;\n",
       "    }\n",
       "</style>\n",
       "<table border=\"1\" class=\"dataframe\">\n",
       "  <thead>\n",
       "    <tr style=\"text-align: right;\">\n",
       "      <th></th>\n",
       "      <th>sum(total_inhabitants)</th>\n",
       "    </tr>\n",
       "  </thead>\n",
       "  <tbody>\n",
       "    <tr>\n",
       "      <th>0</th>\n",
       "      <td>2.250577e+09</td>\n",
       "    </tr>\n",
       "  </tbody>\n",
       "</table>\n",
       "</div>"
      ],
      "text/plain": [
       "   sum(total_inhabitants)\n",
       "0            2.250577e+09"
      ]
     },
     "execution_count": 210,
     "metadata": {},
     "output_type": "execute_result"
    }
   ],
   "source": [
    "##Consultar soma de valores\n",
    "##ALTERE esses valores para personalizar sua consulta\n",
    "\n",
    "col = 'total_inhabitants'  ##Coluna que você quer somar\n",
    "tabela = 'cities_df'       ##De qual tabela ela é\n",
    "col_condicao = 'region'    ##Filtrar por alguma outra coluna \n",
    "condicao = 'sudeste'       ##Condição para filtrar\n",
    "\n",
    "#executa instrução\n",
    "pd.read_sql(\"select sum({}) from {} where {} = '{}' \".format(col, tabela, col_condicao, condicao), con )"
   ]
  },
  {
   "cell_type": "code",
   "execution_count": null,
   "metadata": {},
   "outputs": [],
   "source": []
  }
 ],
 "metadata": {
  "kernelspec": {
   "display_name": "Python 3",
   "language": "python",
   "name": "python3"
  },
  "language_info": {
   "codemirror_mode": {
    "name": "ipython",
    "version": 3
   },
   "file_extension": ".py",
   "mimetype": "text/x-python",
   "name": "python",
   "nbconvert_exporter": "python",
   "pygments_lexer": "ipython3",
   "version": "3.7.3"
  }
 },
 "nbformat": 4,
 "nbformat_minor": 4
}
